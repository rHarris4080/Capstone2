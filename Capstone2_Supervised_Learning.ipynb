{
  "nbformat": 4,
  "nbformat_minor": 0,
  "metadata": {
    "colab": {
      "name": "Capstone2 - Supervised Learning.ipynb",
      "provenance": [],
      "collapsed_sections": [],
      "authorship_tag": "ABX9TyMLvFZhZhjAQeRBAUUpIxVY",
      "include_colab_link": true
    },
    "kernelspec": {
      "name": "python3",
      "display_name": "Python 3"
    },
    "language_info": {
      "name": "python"
    }
  },
  "cells": [
    {
      "cell_type": "markdown",
      "metadata": {
        "id": "view-in-github",
        "colab_type": "text"
      },
      "source": [
        "<a href=\"https://colab.research.google.com/github/rHarris4080/Capstone2/blob/main/Capstone2_Supervised_Learning.ipynb\" target=\"_parent\"><img src=\"https://colab.research.google.com/assets/colab-badge.svg\" alt=\"Open In Colab\"/></a>"
      ]
    },
    {
      "cell_type": "markdown",
      "metadata": {
        "id": "BSIe18lHB_Qs"
      },
      "source": [
        "#Capstone 2 - Supervised Learning: Predicting Used Car Listing Prices\n",
        "#Robert L Harris \n",
        "##4/14/21\n",
        "\n",
        "The dataset of interest was found on Kaggle.com.  It is composed of vehicles for sale on Craigslist.com compiled by Austin Reese.  The dataset has approximately 500k listings throughout the USA.  My computer was unable to download the entire csv file(267MB) do to hardware limitations.  Therefore, the file was split into 46 separate files having 10K listings apiece.  A looping algorithm was used to load in multiple files for investigation purposes.  The dataset was then filtered to only look at California listings.  Those listings were stored on 5 of the 46 files (vehicles_2.csv - vehicles_6.csv).  While California was the state of interest, the code could be easily adjusted to accommodate any state of interest.  One could even adjust it per generalized region (NW, W, SW, etc...).\n",
        "\n",
        "##Task:\n",
        "Write a Supervised Learning model to predict the appropriate asking price of an automobile for sale on Craigslist.com.  Our investigation will use California as the testing ground, but the model could be easily adjusted to look at any other state or region as stated earlier.\n",
        "\n",
        "##Linear Regression: \n",
        "A linear regression approach will be pursued as the target listing price, a continuous variable, should increase on average over time.  Multiple models will be implemented once the dataset is cleaned and feature engineering is completed on all the categories of interest. \n",
        "\n",
        "##Stakeholders:\n",
        "Anyone interested in listing their vehicle on Craigslist.com should have an idea of an appropriate listing price depending on particular parameters (i.e. make, model, miles, year, etc...).  If the best model gives an adequate result, then the individual would have a good idea of what to ask as a listing price for their vehicle.\n",
        "\n",
        "##Limitations:\n",
        "Unfortunately, the sale price is not of record.  Knowing the sale price would allow much more flexibility in the direction to pursue my analysis.  Predicting sale price is much more informative in my opinion that predicting the listing price.  Likewise, knowing the sales price along with listing price would allow for some basic inference regarding \"if listing price with these features, then expect a possible sale price in this range as determined by some margin of error\".  One would also be able to pursue the concept of maximizing sale price depending on differing factors."
      ]
    },
    {
      "cell_type": "code",
      "metadata": {
        "id": "gWkLxWVsEnmo"
      },
      "source": [
        "%matplotlib inline\n",
        "import pandas as pd\n",
        "import numpy as np\n",
        "import seaborn as sns\n",
        "from matplotlib import pyplot as plt\n",
        "from scipy import stats\n",
        "\n",
        "#Set up access the dataset\n",
        "from google.colab import files \n",
        "import io"
      ],
      "execution_count": null,
      "outputs": []
    },
    {
      "cell_type": "code",
      "metadata": {
        "id": "rBOhggV7pAFG",
        "colab": {
          "resources": {
            "http://localhost:8080/nbextensions/google.colab/files.js": {
              "data": "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",
              "ok": true,
              "headers": [
                [
                  "content-type",
                  "application/javascript"
                ]
              ],
              "status": 200,
              "status_text": ""
            }
          },
          "base_uri": "https://localhost:8080/",
          "height": 73
        },
        "outputId": "89730063-9d7a-4063-cf5a-f2505ffe15cb"
      },
      "source": [
        "#vehicles_0 is loaded for column names.\n",
        "uploaded = files.upload()\n",
        "df = pd.read_csv(io.BytesIO(uploaded['vehicles_0.csv']))\n"
      ],
      "execution_count": null,
      "outputs": [
        {
          "output_type": "display_data",
          "data": {
            "text/html": [
              "\n",
              "     <input type=\"file\" id=\"files-3fc2bb64-f49c-49ed-9db4-eeb018191d8d\" name=\"files[]\" multiple disabled\n",
              "        style=\"border:none\" />\n",
              "     <output id=\"result-3fc2bb64-f49c-49ed-9db4-eeb018191d8d\">\n",
              "      Upload widget is only available when the cell has been executed in the\n",
              "      current browser session. Please rerun this cell to enable.\n",
              "      </output>\n",
              "      <script src=\"/nbextensions/google.colab/files.js\"></script> "
            ],
            "text/plain": [
              "<IPython.core.display.HTML object>"
            ]
          },
          "metadata": {
            "tags": []
          }
        },
        {
          "output_type": "stream",
          "text": [
            "Saving vehicles_0.csv to vehicles_0.csv\n"
          ],
          "name": "stdout"
        }
      ]
    },
    {
      "cell_type": "code",
      "metadata": {
        "id": "98HK5q4ZoWMV"
      },
      "source": [
        "def get_data(file_csv):\n",
        "  uploaded = files.upload() \n",
        "  df = pd.read_csv(io.BytesIO(uploaded[file_csv]))  \n",
        "  return df"
      ],
      "execution_count": null,
      "outputs": []
    },
    {
      "cell_type": "code",
      "metadata": {
        "id": "ZQN2CwJUiYND",
        "colab": {
          "resources": {
            "http://localhost:8080/nbextensions/google.colab/files.js": {
              "data": "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",
              "ok": true,
              "headers": [
                [
                  "content-type",
                  "application/javascript"
                ]
              ],
              "status": 200,
              "status_text": ""
            }
          },
          "base_uri": "https://localhost:8080/",
          "height": 296
        },
        "outputId": "5c42f378-8c58-400e-f134-4311617f1914"
      },
      "source": [
        "file_list = ['vehicles_2.csv', 'vehicles_3.csv', 'vehicles_4.csv',\n",
        "             'vehicles_5.csv', 'vehicles_6.csv']\n",
        "\n",
        "for file_csv in file_list:\n",
        "  df_csv = get_data(file_csv)\n",
        "  df_csv.columns = df.columns\n",
        "\n",
        "  file = [df, df_csv]\n",
        "  df = pd.concat(file, ignore_index=True)"
      ],
      "execution_count": null,
      "outputs": [
        {
          "output_type": "display_data",
          "data": {
            "text/html": [
              "\n",
              "     <input type=\"file\" id=\"files-22a5cfb5-828d-4ddc-9ce6-74f331c62d3c\" name=\"files[]\" multiple disabled\n",
              "        style=\"border:none\" />\n",
              "     <output id=\"result-22a5cfb5-828d-4ddc-9ce6-74f331c62d3c\">\n",
              "      Upload widget is only available when the cell has been executed in the\n",
              "      current browser session. Please rerun this cell to enable.\n",
              "      </output>\n",
              "      <script src=\"/nbextensions/google.colab/files.js\"></script> "
            ],
            "text/plain": [
              "<IPython.core.display.HTML object>"
            ]
          },
          "metadata": {
            "tags": []
          }
        },
        {
          "output_type": "stream",
          "text": [
            "Saving vehicles_2.csv to vehicles_2.csv\n"
          ],
          "name": "stdout"
        },
        {
          "output_type": "display_data",
          "data": {
            "text/html": [
              "\n",
              "     <input type=\"file\" id=\"files-427bc950-57b0-4e3f-af09-25828beacd37\" name=\"files[]\" multiple disabled\n",
              "        style=\"border:none\" />\n",
              "     <output id=\"result-427bc950-57b0-4e3f-af09-25828beacd37\">\n",
              "      Upload widget is only available when the cell has been executed in the\n",
              "      current browser session. Please rerun this cell to enable.\n",
              "      </output>\n",
              "      <script src=\"/nbextensions/google.colab/files.js\"></script> "
            ],
            "text/plain": [
              "<IPython.core.display.HTML object>"
            ]
          },
          "metadata": {
            "tags": []
          }
        },
        {
          "output_type": "stream",
          "text": [
            "Saving vehicles_3.csv to vehicles_3.csv\n"
          ],
          "name": "stdout"
        },
        {
          "output_type": "display_data",
          "data": {
            "text/html": [
              "\n",
              "     <input type=\"file\" id=\"files-3c69e643-1d2d-4cfc-8728-94c24be84240\" name=\"files[]\" multiple disabled\n",
              "        style=\"border:none\" />\n",
              "     <output id=\"result-3c69e643-1d2d-4cfc-8728-94c24be84240\">\n",
              "      Upload widget is only available when the cell has been executed in the\n",
              "      current browser session. Please rerun this cell to enable.\n",
              "      </output>\n",
              "      <script src=\"/nbextensions/google.colab/files.js\"></script> "
            ],
            "text/plain": [
              "<IPython.core.display.HTML object>"
            ]
          },
          "metadata": {
            "tags": []
          }
        },
        {
          "output_type": "stream",
          "text": [
            "Saving vehicles_4.csv to vehicles_4.csv\n"
          ],
          "name": "stdout"
        },
        {
          "output_type": "display_data",
          "data": {
            "text/html": [
              "\n",
              "     <input type=\"file\" id=\"files-3bdbb902-b2ab-4513-9526-472e819da0be\" name=\"files[]\" multiple disabled\n",
              "        style=\"border:none\" />\n",
              "     <output id=\"result-3bdbb902-b2ab-4513-9526-472e819da0be\">\n",
              "      Upload widget is only available when the cell has been executed in the\n",
              "      current browser session. Please rerun this cell to enable.\n",
              "      </output>\n",
              "      <script src=\"/nbextensions/google.colab/files.js\"></script> "
            ],
            "text/plain": [
              "<IPython.core.display.HTML object>"
            ]
          },
          "metadata": {
            "tags": []
          }
        },
        {
          "output_type": "stream",
          "text": [
            "Saving vehicles_5.csv to vehicles_5.csv\n"
          ],
          "name": "stdout"
        },
        {
          "output_type": "display_data",
          "data": {
            "text/html": [
              "\n",
              "     <input type=\"file\" id=\"files-d0832832-e654-49f8-9ccf-bcd05db0530a\" name=\"files[]\" multiple disabled\n",
              "        style=\"border:none\" />\n",
              "     <output id=\"result-d0832832-e654-49f8-9ccf-bcd05db0530a\">\n",
              "      Upload widget is only available when the cell has been executed in the\n",
              "      current browser session. Please rerun this cell to enable.\n",
              "      </output>\n",
              "      <script src=\"/nbextensions/google.colab/files.js\"></script> "
            ],
            "text/plain": [
              "<IPython.core.display.HTML object>"
            ]
          },
          "metadata": {
            "tags": []
          }
        },
        {
          "output_type": "stream",
          "text": [
            "Saving vehicles_6.csv to vehicles_6.csv\n"
          ],
          "name": "stdout"
        }
      ]
    },
    {
      "cell_type": "markdown",
      "metadata": {
        "id": "tKbHBcULe3Oa"
      },
      "source": [
        "##Some preliminary investigation:"
      ]
    },
    {
      "cell_type": "code",
      "metadata": {
        "colab": {
          "base_uri": "https://localhost:8080/"
        },
        "id": "pHLJN-vC8ZfJ",
        "outputId": "76cb5fcb-dade-45c5-defb-be3f5bb85eae"
      },
      "source": [
        "df.shape"
      ],
      "execution_count": null,
      "outputs": [
        {
          "output_type": "execute_result",
          "data": {
            "text/plain": [
              "(60000, 26)"
            ]
          },
          "metadata": {
            "tags": []
          },
          "execution_count": 5
        }
      ]
    },
    {
      "cell_type": "code",
      "metadata": {
        "colab": {
          "base_uri": "https://localhost:8080/",
          "height": 534
        },
        "id": "VwVVDrrYIs28",
        "outputId": "617d65c4-f3a8-4004-96bc-f028b5142dda"
      },
      "source": [
        "df.head()"
      ],
      "execution_count": null,
      "outputs": [
        {
          "output_type": "execute_result",
          "data": {
            "text/html": [
              "<div>\n",
              "<style scoped>\n",
              "    .dataframe tbody tr th:only-of-type {\n",
              "        vertical-align: middle;\n",
              "    }\n",
              "\n",
              "    .dataframe tbody tr th {\n",
              "        vertical-align: top;\n",
              "    }\n",
              "\n",
              "    .dataframe thead th {\n",
              "        text-align: right;\n",
              "    }\n",
              "</style>\n",
              "<table border=\"1\" class=\"dataframe\">\n",
              "  <thead>\n",
              "    <tr style=\"text-align: right;\">\n",
              "      <th></th>\n",
              "      <th>Unnamed: 0</th>\n",
              "      <th>id</th>\n",
              "      <th>url</th>\n",
              "      <th>region</th>\n",
              "      <th>region_url</th>\n",
              "      <th>price</th>\n",
              "      <th>year</th>\n",
              "      <th>manufacturer</th>\n",
              "      <th>model</th>\n",
              "      <th>condition</th>\n",
              "      <th>cylinders</th>\n",
              "      <th>fuel</th>\n",
              "      <th>odometer</th>\n",
              "      <th>title_status</th>\n",
              "      <th>transmission</th>\n",
              "      <th>VIN</th>\n",
              "      <th>drive</th>\n",
              "      <th>size</th>\n",
              "      <th>type</th>\n",
              "      <th>paint_color</th>\n",
              "      <th>image_url</th>\n",
              "      <th>description</th>\n",
              "      <th>state</th>\n",
              "      <th>lat</th>\n",
              "      <th>long</th>\n",
              "      <th>posting_date</th>\n",
              "    </tr>\n",
              "  </thead>\n",
              "  <tbody>\n",
              "    <tr>\n",
              "      <th>0</th>\n",
              "      <td>0</td>\n",
              "      <td>7240372487</td>\n",
              "      <td>https://auburn.craigslist.org/ctd/d/auburn-uni...</td>\n",
              "      <td>auburn</td>\n",
              "      <td>https://auburn.craigslist.org</td>\n",
              "      <td>35990</td>\n",
              "      <td>2010.0</td>\n",
              "      <td>chevrolet</td>\n",
              "      <td>corvette grand sport</td>\n",
              "      <td>good</td>\n",
              "      <td>8 cylinders</td>\n",
              "      <td>gas</td>\n",
              "      <td>32742.0</td>\n",
              "      <td>clean</td>\n",
              "      <td>other</td>\n",
              "      <td>1G1YU3DW1A5106980</td>\n",
              "      <td>rwd</td>\n",
              "      <td>NaN</td>\n",
              "      <td>other</td>\n",
              "      <td>NaN</td>\n",
              "      <td>https://images.craigslist.org/00N0N_ipkbHVZYf4...</td>\n",
              "      <td>Carvana is the safer way to buy a car During t...</td>\n",
              "      <td>al</td>\n",
              "      <td>32.590000</td>\n",
              "      <td>-85.480000</td>\n",
              "      <td>2020-12-02T08:11:30-0600</td>\n",
              "    </tr>\n",
              "    <tr>\n",
              "      <th>1</th>\n",
              "      <td>1</td>\n",
              "      <td>7240309422</td>\n",
              "      <td>https://auburn.craigslist.org/cto/d/auburn-201...</td>\n",
              "      <td>auburn</td>\n",
              "      <td>https://auburn.craigslist.org</td>\n",
              "      <td>7500</td>\n",
              "      <td>2014.0</td>\n",
              "      <td>hyundai</td>\n",
              "      <td>sonata</td>\n",
              "      <td>excellent</td>\n",
              "      <td>4 cylinders</td>\n",
              "      <td>gas</td>\n",
              "      <td>93600.0</td>\n",
              "      <td>clean</td>\n",
              "      <td>automatic</td>\n",
              "      <td>5NPEC4AB0EH813529</td>\n",
              "      <td>fwd</td>\n",
              "      <td>NaN</td>\n",
              "      <td>sedan</td>\n",
              "      <td>NaN</td>\n",
              "      <td>https://images.craigslist.org/00s0s_gBHYmJ5o7y...</td>\n",
              "      <td>I'll move to another city and try to sell my c...</td>\n",
              "      <td>al</td>\n",
              "      <td>32.547500</td>\n",
              "      <td>-85.468200</td>\n",
              "      <td>2020-12-02T02:11:50-0600</td>\n",
              "    </tr>\n",
              "    <tr>\n",
              "      <th>2</th>\n",
              "      <td>2</td>\n",
              "      <td>7240224296</td>\n",
              "      <td>https://auburn.craigslist.org/cto/d/auburn-200...</td>\n",
              "      <td>auburn</td>\n",
              "      <td>https://auburn.craigslist.org</td>\n",
              "      <td>4900</td>\n",
              "      <td>2006.0</td>\n",
              "      <td>bmw</td>\n",
              "      <td>x3 3.0i</td>\n",
              "      <td>good</td>\n",
              "      <td>6 cylinders</td>\n",
              "      <td>gas</td>\n",
              "      <td>87046.0</td>\n",
              "      <td>clean</td>\n",
              "      <td>automatic</td>\n",
              "      <td>NaN</td>\n",
              "      <td>NaN</td>\n",
              "      <td>NaN</td>\n",
              "      <td>SUV</td>\n",
              "      <td>blue</td>\n",
              "      <td>https://images.craigslist.org/00B0B_5zgEGWPOrt...</td>\n",
              "      <td>Clean 2006 BMW X3 3.0I.  Beautiful and rare Bl...</td>\n",
              "      <td>al</td>\n",
              "      <td>32.616807</td>\n",
              "      <td>-85.464149</td>\n",
              "      <td>2020-12-01T19:50:41-0600</td>\n",
              "    </tr>\n",
              "    <tr>\n",
              "      <th>3</th>\n",
              "      <td>3</td>\n",
              "      <td>7240103965</td>\n",
              "      <td>https://auburn.craigslist.org/cto/d/lanett-tru...</td>\n",
              "      <td>auburn</td>\n",
              "      <td>https://auburn.craigslist.org</td>\n",
              "      <td>2000</td>\n",
              "      <td>1974.0</td>\n",
              "      <td>chevrolet</td>\n",
              "      <td>c-10</td>\n",
              "      <td>good</td>\n",
              "      <td>4 cylinders</td>\n",
              "      <td>gas</td>\n",
              "      <td>190000.0</td>\n",
              "      <td>clean</td>\n",
              "      <td>automatic</td>\n",
              "      <td>NaN</td>\n",
              "      <td>rwd</td>\n",
              "      <td>full-size</td>\n",
              "      <td>pickup</td>\n",
              "      <td>blue</td>\n",
              "      <td>https://images.craigslist.org/00M0M_6o7KcDpArw...</td>\n",
              "      <td>1974 chev. truck (LONG BED) NEW starter front ...</td>\n",
              "      <td>al</td>\n",
              "      <td>32.861600</td>\n",
              "      <td>-85.216100</td>\n",
              "      <td>2020-12-01T15:54:45-0600</td>\n",
              "    </tr>\n",
              "    <tr>\n",
              "      <th>4</th>\n",
              "      <td>4</td>\n",
              "      <td>7239983776</td>\n",
              "      <td>https://auburn.craigslist.org/cto/d/auburn-200...</td>\n",
              "      <td>auburn</td>\n",
              "      <td>https://auburn.craigslist.org</td>\n",
              "      <td>19500</td>\n",
              "      <td>2005.0</td>\n",
              "      <td>ford</td>\n",
              "      <td>f350 lariat</td>\n",
              "      <td>excellent</td>\n",
              "      <td>8 cylinders</td>\n",
              "      <td>diesel</td>\n",
              "      <td>116000.0</td>\n",
              "      <td>lien</td>\n",
              "      <td>automatic</td>\n",
              "      <td>NaN</td>\n",
              "      <td>4wd</td>\n",
              "      <td>full-size</td>\n",
              "      <td>pickup</td>\n",
              "      <td>blue</td>\n",
              "      <td>https://images.craigslist.org/00p0p_b95l1EgUfl...</td>\n",
              "      <td>2005 Ford F350 Lariat (Bullet Proofed). This t...</td>\n",
              "      <td>al</td>\n",
              "      <td>32.547500</td>\n",
              "      <td>-85.468200</td>\n",
              "      <td>2020-12-01T12:53:56-0600</td>\n",
              "    </tr>\n",
              "  </tbody>\n",
              "</table>\n",
              "</div>"
            ],
            "text/plain": [
              "   Unnamed: 0          id  ...       long              posting_date\n",
              "0           0  7240372487  ... -85.480000  2020-12-02T08:11:30-0600\n",
              "1           1  7240309422  ... -85.468200  2020-12-02T02:11:50-0600\n",
              "2           2  7240224296  ... -85.464149  2020-12-01T19:50:41-0600\n",
              "3           3  7240103965  ... -85.216100  2020-12-01T15:54:45-0600\n",
              "4           4  7239983776  ... -85.468200  2020-12-01T12:53:56-0600\n",
              "\n",
              "[5 rows x 26 columns]"
            ]
          },
          "metadata": {
            "tags": []
          },
          "execution_count": 6
        }
      ]
    },
    {
      "cell_type": "code",
      "metadata": {
        "colab": {
          "base_uri": "https://localhost:8080/"
        },
        "id": "ZWUOu6coiHg0",
        "outputId": "0e4f0240-1bdc-4b3b-adb7-bdc3d75427e5"
      },
      "source": [
        "df.info()"
      ],
      "execution_count": null,
      "outputs": [
        {
          "output_type": "stream",
          "text": [
            "<class 'pandas.core.frame.DataFrame'>\n",
            "RangeIndex: 60000 entries, 0 to 59999\n",
            "Data columns (total 26 columns):\n",
            " #   Column        Non-Null Count  Dtype  \n",
            "---  ------        --------------  -----  \n",
            " 0   Unnamed: 0    60000 non-null  int64  \n",
            " 1   id            60000 non-null  int64  \n",
            " 2   url           60000 non-null  object \n",
            " 3   region        60000 non-null  object \n",
            " 4   region_url    60000 non-null  object \n",
            " 5   price         60000 non-null  int64  \n",
            " 6   year          59867 non-null  float64\n",
            " 7   manufacturer  57886 non-null  object \n",
            " 8   model         59322 non-null  object \n",
            " 9   condition     36805 non-null  object \n",
            " 10  cylinders     37209 non-null  object \n",
            " 11  fuel          59767 non-null  object \n",
            " 12  odometer      52222 non-null  float64\n",
            " 13  title_status  59546 non-null  object \n",
            " 14  transmission  59743 non-null  object \n",
            " 15  VIN           37299 non-null  object \n",
            " 16  drive         41869 non-null  object \n",
            " 17  size          16886 non-null  object \n",
            " 18  type          46557 non-null  object \n",
            " 19  paint_color   42165 non-null  object \n",
            " 20  image_url     60000 non-null  object \n",
            " 21  description   60000 non-null  object \n",
            " 22  state         60000 non-null  object \n",
            " 23  lat           59823 non-null  float64\n",
            " 24  long          59823 non-null  float64\n",
            " 25  posting_date  60000 non-null  object \n",
            "dtypes: float64(4), int64(3), object(19)\n",
            "memory usage: 11.9+ MB\n"
          ],
          "name": "stdout"
        }
      ]
    },
    {
      "cell_type": "code",
      "metadata": {
        "colab": {
          "base_uri": "https://localhost:8080/"
        },
        "id": "UMXqxd07SZpL",
        "outputId": "ec0ccf9a-c839-44fb-e744-0db069c9216b"
      },
      "source": [
        "df.state.unique()"
      ],
      "execution_count": null,
      "outputs": [
        {
          "output_type": "execute_result",
          "data": {
            "text/plain": [
              "array(['al', 'ak', 'az', 'ar', 'ca', 'co'], dtype=object)"
            ]
          },
          "metadata": {
            "tags": []
          },
          "execution_count": 8
        }
      ]
    },
    {
      "cell_type": "markdown",
      "metadata": {
        "id": "e-uXltilSbCs"
      },
      "source": [
        "##Filter and investigate California:"
      ]
    },
    {
      "cell_type": "code",
      "metadata": {
        "id": "k-vWYFm6TnGz",
        "colab": {
          "base_uri": "https://localhost:8080/",
          "height": 341
        },
        "outputId": "ef5dfcfb-b2fa-49f7-adc0-3872d26d56bc"
      },
      "source": [
        "# Filter CA listing only & reset index at 0\n",
        "\n",
        "cars = df.copy()[df['state']=='ca']        #FYI: cars = df[df['state']=='ca']\n",
        "cars.reset_index(drop=True, inplace=True)\n",
        "\n",
        "cars.head(3)"
      ],
      "execution_count": null,
      "outputs": [
        {
          "output_type": "execute_result",
          "data": {
            "text/html": [
              "<div>\n",
              "<style scoped>\n",
              "    .dataframe tbody tr th:only-of-type {\n",
              "        vertical-align: middle;\n",
              "    }\n",
              "\n",
              "    .dataframe tbody tr th {\n",
              "        vertical-align: top;\n",
              "    }\n",
              "\n",
              "    .dataframe thead th {\n",
              "        text-align: right;\n",
              "    }\n",
              "</style>\n",
              "<table border=\"1\" class=\"dataframe\">\n",
              "  <thead>\n",
              "    <tr style=\"text-align: right;\">\n",
              "      <th></th>\n",
              "      <th>Unnamed: 0</th>\n",
              "      <th>id</th>\n",
              "      <th>url</th>\n",
              "      <th>region</th>\n",
              "      <th>region_url</th>\n",
              "      <th>price</th>\n",
              "      <th>year</th>\n",
              "      <th>manufacturer</th>\n",
              "      <th>model</th>\n",
              "      <th>condition</th>\n",
              "      <th>cylinders</th>\n",
              "      <th>fuel</th>\n",
              "      <th>odometer</th>\n",
              "      <th>title_status</th>\n",
              "      <th>transmission</th>\n",
              "      <th>VIN</th>\n",
              "      <th>drive</th>\n",
              "      <th>size</th>\n",
              "      <th>type</th>\n",
              "      <th>paint_color</th>\n",
              "      <th>image_url</th>\n",
              "      <th>description</th>\n",
              "      <th>state</th>\n",
              "      <th>lat</th>\n",
              "      <th>long</th>\n",
              "      <th>posting_date</th>\n",
              "    </tr>\n",
              "  </thead>\n",
              "  <tbody>\n",
              "    <tr>\n",
              "      <th>0</th>\n",
              "      <td>22141</td>\n",
              "      <td>7240678054</td>\n",
              "      <td>https://bakersfield.craigslist.org/ctd/d/fonta...</td>\n",
              "      <td>bakersfield</td>\n",
              "      <td>https://bakersfield.craigslist.org</td>\n",
              "      <td>74995</td>\n",
              "      <td>2019.0</td>\n",
              "      <td>ford</td>\n",
              "      <td>f-250sd</td>\n",
              "      <td>NaN</td>\n",
              "      <td>NaN</td>\n",
              "      <td>diesel</td>\n",
              "      <td>13388.0</td>\n",
              "      <td>clean</td>\n",
              "      <td>automatic</td>\n",
              "      <td>1FT7W2BT5KEE29401</td>\n",
              "      <td>4wd</td>\n",
              "      <td>NaN</td>\n",
              "      <td>NaN</td>\n",
              "      <td>NaN</td>\n",
              "      <td>https://images.craigslist.org/00Y0Y_axZeBhuY2f...</td>\n",
              "      <td>2019 Ford F-250SD Lariat 4WD 4D Crew Cab  8 cy...</td>\n",
              "      <td>ca</td>\n",
              "      <td>34.070311</td>\n",
              "      <td>-117.446303</td>\n",
              "      <td>2020-12-02T14:01:31-0800</td>\n",
              "    </tr>\n",
              "    <tr>\n",
              "      <th>1</th>\n",
              "      <td>22142</td>\n",
              "      <td>7240677725</td>\n",
              "      <td>https://bakersfield.craigslist.org/ctd/d/orang...</td>\n",
              "      <td>bakersfield</td>\n",
              "      <td>https://bakersfield.craigslist.org</td>\n",
              "      <td>9997</td>\n",
              "      <td>2014.0</td>\n",
              "      <td>honda</td>\n",
              "      <td>civic bad credit</td>\n",
              "      <td>like new</td>\n",
              "      <td>NaN</td>\n",
              "      <td>gas</td>\n",
              "      <td>77000.0</td>\n",
              "      <td>clean</td>\n",
              "      <td>automatic</td>\n",
              "      <td>NaN</td>\n",
              "      <td>NaN</td>\n",
              "      <td>NaN</td>\n",
              "      <td>SUV</td>\n",
              "      <td>black</td>\n",
              "      <td>https://images.craigslist.org/01616_c5SrAatbtj...</td>\n",
              "      <td>We offer HIGHLY AGGRESSIVE financing for those...</td>\n",
              "      <td>ca</td>\n",
              "      <td>33.788216</td>\n",
              "      <td>-117.833248</td>\n",
              "      <td>2020-12-02T14:00:56-0800</td>\n",
              "    </tr>\n",
              "    <tr>\n",
              "      <th>2</th>\n",
              "      <td>22143</td>\n",
              "      <td>7240673013</td>\n",
              "      <td>https://bakersfield.craigslist.org/ctd/d/orang...</td>\n",
              "      <td>bakersfield</td>\n",
              "      <td>https://bakersfield.craigslist.org</td>\n",
              "      <td>23997</td>\n",
              "      <td>2015.0</td>\n",
              "      <td>nissan</td>\n",
              "      <td>armada bad credit</td>\n",
              "      <td>excellent</td>\n",
              "      <td>8 cylinders</td>\n",
              "      <td>gas</td>\n",
              "      <td>55000.0</td>\n",
              "      <td>clean</td>\n",
              "      <td>automatic</td>\n",
              "      <td>NaN</td>\n",
              "      <td>NaN</td>\n",
              "      <td>NaN</td>\n",
              "      <td>SUV</td>\n",
              "      <td>black</td>\n",
              "      <td>https://images.craigslist.org/00n0n_a18VfwAZOT...</td>\n",
              "      <td>😍 We are very pleased to offer for sale this \"...</td>\n",
              "      <td>ca</td>\n",
              "      <td>33.811000</td>\n",
              "      <td>-117.849300</td>\n",
              "      <td>2020-12-02T13:53:15-0800</td>\n",
              "    </tr>\n",
              "  </tbody>\n",
              "</table>\n",
              "</div>"
            ],
            "text/plain": [
              "   Unnamed: 0          id  ...        long              posting_date\n",
              "0       22141  7240678054  ... -117.446303  2020-12-02T14:01:31-0800\n",
              "1       22142  7240677725  ... -117.833248  2020-12-02T14:00:56-0800\n",
              "2       22143  7240673013  ... -117.849300  2020-12-02T13:53:15-0800\n",
              "\n",
              "[3 rows x 26 columns]"
            ]
          },
          "metadata": {
            "tags": []
          },
          "execution_count": 5
        }
      ]
    },
    {
      "cell_type": "markdown",
      "metadata": {
        "id": "JMcXH6fZB0Kp"
      },
      "source": [
        "###Only 16 of the original 26 categories are of interest.  We will eliminate the categories having little to no effect on the target price.  Those columns are:\n",
        "1. Unamed:0\n",
        "2. id\n",
        "3. url\n",
        "4. region_url\n",
        "5. VIN\n",
        "6. image_url\n",
        "7. descriprion\n",
        "8. lat\n",
        "9. long\n",
        "10. posting_date\n"
      ]
    },
    {
      "cell_type": "code",
      "metadata": {
        "id": "dbKBma2xuRr3",
        "colab": {
          "base_uri": "https://localhost:8080/"
        },
        "outputId": "43c21faa-fa16-44a5-e1e3-8ee21e9f6bd4"
      },
      "source": [
        "cars.drop(columns = ['Unnamed: 0', 'id', 'url','region_url','VIN','image_url', 'description','lat', 'long', 'posting_date'], inplace=True )\n",
        "cars.info()"
      ],
      "execution_count": null,
      "outputs": [
        {
          "output_type": "stream",
          "text": [
            "<class 'pandas.core.frame.DataFrame'>\n",
            "RangeIndex: 45634 entries, 0 to 45633\n",
            "Data columns (total 16 columns):\n",
            " #   Column        Non-Null Count  Dtype  \n",
            "---  ------        --------------  -----  \n",
            " 0   region        45634 non-null  object \n",
            " 1   price         45634 non-null  int64  \n",
            " 2   year          45573 non-null  float64\n",
            " 3   manufacturer  44028 non-null  object \n",
            " 4   model         45076 non-null  object \n",
            " 5   condition     29714 non-null  object \n",
            " 6   cylinders     27506 non-null  object \n",
            " 7   fuel          45488 non-null  object \n",
            " 8   odometer      40144 non-null  float64\n",
            " 9   title_status  45344 non-null  object \n",
            " 10  transmission  45451 non-null  object \n",
            " 11  drive         31547 non-null  object \n",
            " 12  size          12860 non-null  object \n",
            " 13  type          36028 non-null  object \n",
            " 14  paint_color   31669 non-null  object \n",
            " 15  state         45634 non-null  object \n",
            "dtypes: float64(2), int64(1), object(13)\n",
            "memory usage: 5.6+ MB\n"
          ],
          "name": "stdout"
        }
      ]
    },
    {
      "cell_type": "markdown",
      "metadata": {
        "id": "smw4vYqil2r_"
      },
      "source": [
        "### Remove entries without a year because year is a key feature."
      ]
    },
    {
      "cell_type": "code",
      "metadata": {
        "colab": {
          "base_uri": "https://localhost:8080/"
        },
        "id": "wukph8csjj7K",
        "outputId": "65808d0b-3e3d-4935-a3a3-7d985fb7d3ce"
      },
      "source": [
        "years_null = cars.year.isnull().value_counts()\n",
        "years_null"
      ],
      "execution_count": null,
      "outputs": [
        {
          "output_type": "execute_result",
          "data": {
            "text/plain": [
              "False    45573\n",
              "True        61\n",
              "Name: year, dtype: int64"
            ]
          },
          "metadata": {
            "tags": []
          },
          "execution_count": 82
        }
      ]
    },
    {
      "cell_type": "code",
      "metadata": {
        "colab": {
          "base_uri": "https://localhost:8080/"
        },
        "id": "oh2cDn87lagD",
        "outputId": "6db54c58-3988-4393-99c8-3ada80d5ec99"
      },
      "source": [
        "cars = cars[cars['year'].notna()] \n",
        "\n",
        "print(len(cars[cars['year'].isnull()==True]))\n",
        "print(len(cars))"
      ],
      "execution_count": null,
      "outputs": [
        {
          "output_type": "stream",
          "text": [
            "0\n",
            "45573\n"
          ],
          "name": "stdout"
        }
      ]
    },
    {
      "cell_type": "code",
      "metadata": {
        "id": "83S8z-XGmbt2"
      },
      "source": [
        "# typecast floats to int\n",
        "cars['price'] = cars['price'].astype(int)\n",
        "cars['year'] = cars['year'].astype(int)"
      ],
      "execution_count": null,
      "outputs": []
    },
    {
      "cell_type": "markdown",
      "metadata": {
        "id": "sWB3YIzgKqGQ"
      },
      "source": [
        "##Continue to explore and clean continuous variables:"
      ]
    },
    {
      "cell_type": "code",
      "metadata": {
        "id": "A3jEhKPAFxCO",
        "colab": {
          "base_uri": "https://localhost:8080/"
        },
        "outputId": "2de2ce95-1336-4ea6-f6be-67dd75ea08d6"
      },
      "source": [
        "cars.info()"
      ],
      "execution_count": null,
      "outputs": [
        {
          "output_type": "stream",
          "text": [
            "<class 'pandas.core.frame.DataFrame'>\n",
            "Int64Index: 45573 entries, 0 to 45633\n",
            "Data columns (total 16 columns):\n",
            " #   Column        Non-Null Count  Dtype  \n",
            "---  ------        --------------  -----  \n",
            " 0   region        45573 non-null  object \n",
            " 1   price         45573 non-null  int64  \n",
            " 2   year          45573 non-null  int64  \n",
            " 3   manufacturer  44028 non-null  object \n",
            " 4   model         45015 non-null  object \n",
            " 5   condition     29714 non-null  object \n",
            " 6   cylinders     27445 non-null  object \n",
            " 7   fuel          45436 non-null  object \n",
            " 8   odometer      40083 non-null  float64\n",
            " 9   title_status  45291 non-null  object \n",
            " 10  transmission  45390 non-null  object \n",
            " 11  drive         31489 non-null  object \n",
            " 12  size          12860 non-null  object \n",
            " 13  type          35967 non-null  object \n",
            " 14  paint_color   31620 non-null  object \n",
            " 15  state         45573 non-null  object \n",
            "dtypes: float64(1), int64(2), object(13)\n",
            "memory usage: 5.9+ MB\n"
          ],
          "name": "stdout"
        }
      ]
    },
    {
      "cell_type": "code",
      "metadata": {
        "colab": {
          "base_uri": "https://localhost:8080/",
          "height": 287
        },
        "id": "rDEUnwWaLdgA",
        "outputId": "fd44498c-e2ca-4603-efc5-736b18f1a00b"
      },
      "source": [
        "cars.describe()"
      ],
      "execution_count": null,
      "outputs": [
        {
          "output_type": "execute_result",
          "data": {
            "text/html": [
              "<div>\n",
              "<style scoped>\n",
              "    .dataframe tbody tr th:only-of-type {\n",
              "        vertical-align: middle;\n",
              "    }\n",
              "\n",
              "    .dataframe tbody tr th {\n",
              "        vertical-align: top;\n",
              "    }\n",
              "\n",
              "    .dataframe thead th {\n",
              "        text-align: right;\n",
              "    }\n",
              "</style>\n",
              "<table border=\"1\" class=\"dataframe\">\n",
              "  <thead>\n",
              "    <tr style=\"text-align: right;\">\n",
              "      <th></th>\n",
              "      <th>price</th>\n",
              "      <th>year</th>\n",
              "      <th>odometer</th>\n",
              "    </tr>\n",
              "  </thead>\n",
              "  <tbody>\n",
              "    <tr>\n",
              "      <th>count</th>\n",
              "      <td>45573.000</td>\n",
              "      <td>45573.000</td>\n",
              "      <td>40083.000</td>\n",
              "    </tr>\n",
              "    <tr>\n",
              "      <th>mean</th>\n",
              "      <td>77950.571</td>\n",
              "      <td>2010.682</td>\n",
              "      <td>87807.928</td>\n",
              "    </tr>\n",
              "    <tr>\n",
              "      <th>std</th>\n",
              "      <td>13155228.895</td>\n",
              "      <td>9.653</td>\n",
              "      <td>162307.725</td>\n",
              "    </tr>\n",
              "    <tr>\n",
              "      <th>min</th>\n",
              "      <td>0.000</td>\n",
              "      <td>1900.000</td>\n",
              "      <td>0.000</td>\n",
              "    </tr>\n",
              "    <tr>\n",
              "      <th>25%</th>\n",
              "      <td>5950.000</td>\n",
              "      <td>2008.000</td>\n",
              "      <td>36103.000</td>\n",
              "    </tr>\n",
              "    <tr>\n",
              "      <th>50%</th>\n",
              "      <td>12500.000</td>\n",
              "      <td>2013.000</td>\n",
              "      <td>75000.000</td>\n",
              "    </tr>\n",
              "    <tr>\n",
              "      <th>75%</th>\n",
              "      <td>22985.000</td>\n",
              "      <td>2016.000</td>\n",
              "      <td>120000.000</td>\n",
              "    </tr>\n",
              "    <tr>\n",
              "      <th>max</th>\n",
              "      <td>2808348671.000</td>\n",
              "      <td>2021.000</td>\n",
              "      <td>10000000.000</td>\n",
              "    </tr>\n",
              "  </tbody>\n",
              "</table>\n",
              "</div>"
            ],
            "text/plain": [
              "               price      year     odometer\n",
              "count      45573.000 45573.000    40083.000\n",
              "mean       77950.571  2010.682    87807.928\n",
              "std     13155228.895     9.653   162307.725\n",
              "min            0.000  1900.000        0.000\n",
              "25%         5950.000  2008.000    36103.000\n",
              "50%        12500.000  2013.000    75000.000\n",
              "75%        22985.000  2016.000   120000.000\n",
              "max   2808348671.000  2021.000 10000000.000"
            ]
          },
          "metadata": {
            "tags": []
          },
          "execution_count": 86
        }
      ]
    },
    {
      "cell_type": "markdown",
      "metadata": {
        "id": "p0gr4cjSXsTw"
      },
      "source": [
        "###Investigate a minimum odometer and price reading of 0.  Also, max price of $2,808,349,000 and a max odometer of 10,000,000?  From the Rich and Famous to the poster child for using Firestone to prolong the life of your car!!!"
      ]
    },
    {
      "cell_type": "code",
      "metadata": {
        "colab": {
          "base_uri": "https://localhost:8080/"
        },
        "id": "C4yh149rX1LZ",
        "outputId": "16bae8b7-b388-46b2-f2f8-aea20b9798be"
      },
      "source": [
        "print(len(cars[cars['odometer']==0]))\n",
        "print(len(cars[cars['price']==0]))"
      ],
      "execution_count": null,
      "outputs": [
        {
          "output_type": "stream",
          "text": [
            "352\n",
            "3725\n"
          ],
          "name": "stdout"
        }
      ]
    },
    {
      "cell_type": "markdown",
      "metadata": {
        "id": "QU_8x3cmhuAC"
      },
      "source": [
        "###Eliminate all records where price = 0"
      ]
    },
    {
      "cell_type": "code",
      "metadata": {
        "id": "oJm-Lv4bhtQ8",
        "colab": {
          "base_uri": "https://localhost:8080/"
        },
        "outputId": "e3671027-a9df-469b-e42e-49d9ebbf5cea"
      },
      "source": [
        "cars.drop(cars[cars.price == 0].index, inplace=True)\n",
        "len(cars[cars.price == 0])"
      ],
      "execution_count": null,
      "outputs": [
        {
          "output_type": "execute_result",
          "data": {
            "text/plain": [
              "0"
            ]
          },
          "metadata": {
            "tags": []
          },
          "execution_count": 9
        }
      ]
    },
    {
      "cell_type": "code",
      "metadata": {
        "colab": {
          "base_uri": "https://localhost:8080/",
          "height": 197
        },
        "id": "zOSF7w9TkSnK",
        "outputId": "b6905bcb-dd16-434f-f519-43b130c34a53"
      },
      "source": [
        "# Investigate odometer issues:\n",
        "\n",
        "cars[cars['odometer']==0].head(5)"
      ],
      "execution_count": null,
      "outputs": [
        {
          "output_type": "execute_result",
          "data": {
            "text/html": [
              "<div>\n",
              "<style scoped>\n",
              "    .dataframe tbody tr th:only-of-type {\n",
              "        vertical-align: middle;\n",
              "    }\n",
              "\n",
              "    .dataframe tbody tr th {\n",
              "        vertical-align: top;\n",
              "    }\n",
              "\n",
              "    .dataframe thead th {\n",
              "        text-align: right;\n",
              "    }\n",
              "</style>\n",
              "<table border=\"1\" class=\"dataframe\">\n",
              "  <thead>\n",
              "    <tr style=\"text-align: right;\">\n",
              "      <th></th>\n",
              "      <th>region</th>\n",
              "      <th>price</th>\n",
              "      <th>year</th>\n",
              "      <th>manufacturer</th>\n",
              "      <th>model</th>\n",
              "      <th>condition</th>\n",
              "      <th>cylinders</th>\n",
              "      <th>fuel</th>\n",
              "      <th>odometer</th>\n",
              "      <th>title_status</th>\n",
              "      <th>transmission</th>\n",
              "      <th>drive</th>\n",
              "      <th>size</th>\n",
              "      <th>type</th>\n",
              "      <th>paint_color</th>\n",
              "      <th>state</th>\n",
              "    </tr>\n",
              "  </thead>\n",
              "  <tbody>\n",
              "    <tr>\n",
              "      <th>171</th>\n",
              "      <td>bakersfield</td>\n",
              "      <td>39990</td>\n",
              "      <td>2014</td>\n",
              "      <td>NaN</td>\n",
              "      <td>John Deere Loader</td>\n",
              "      <td>excellent</td>\n",
              "      <td>NaN</td>\n",
              "      <td>gas</td>\n",
              "      <td>0.0</td>\n",
              "      <td>clean</td>\n",
              "      <td>automatic</td>\n",
              "      <td>NaN</td>\n",
              "      <td>NaN</td>\n",
              "      <td>NaN</td>\n",
              "      <td>orange</td>\n",
              "      <td>ca</td>\n",
              "    </tr>\n",
              "    <tr>\n",
              "      <th>174</th>\n",
              "      <td>bakersfield</td>\n",
              "      <td>12990</td>\n",
              "      <td>2020</td>\n",
              "      <td>NaN</td>\n",
              "      <td>CTEC 128-38-VFT-95</td>\n",
              "      <td>excellent</td>\n",
              "      <td>NaN</td>\n",
              "      <td>gas</td>\n",
              "      <td>0.0</td>\n",
              "      <td>clean</td>\n",
              "      <td>automatic</td>\n",
              "      <td>NaN</td>\n",
              "      <td>NaN</td>\n",
              "      <td>NaN</td>\n",
              "      <td>white</td>\n",
              "      <td>ca</td>\n",
              "    </tr>\n",
              "    <tr>\n",
              "      <th>1387</th>\n",
              "      <td>bakersfield</td>\n",
              "      <td>6498</td>\n",
              "      <td>2008</td>\n",
              "      <td>honda</td>\n",
              "      <td>cr-v</td>\n",
              "      <td>excellent</td>\n",
              "      <td>4 cylinders</td>\n",
              "      <td>gas</td>\n",
              "      <td>0.0</td>\n",
              "      <td>clean</td>\n",
              "      <td>automatic</td>\n",
              "      <td>fwd</td>\n",
              "      <td>NaN</td>\n",
              "      <td>SUV</td>\n",
              "      <td>blue</td>\n",
              "      <td>ca</td>\n",
              "    </tr>\n",
              "    <tr>\n",
              "      <th>2653</th>\n",
              "      <td>chico</td>\n",
              "      <td>4995</td>\n",
              "      <td>2002</td>\n",
              "      <td>chevrolet</td>\n",
              "      <td>trailblazer</td>\n",
              "      <td>good</td>\n",
              "      <td>6 cylinders</td>\n",
              "      <td>gas</td>\n",
              "      <td>0.0</td>\n",
              "      <td>clean</td>\n",
              "      <td>automatic</td>\n",
              "      <td>4wd</td>\n",
              "      <td>mid-size</td>\n",
              "      <td>SUV</td>\n",
              "      <td>red</td>\n",
              "      <td>ca</td>\n",
              "    </tr>\n",
              "    <tr>\n",
              "      <th>2992</th>\n",
              "      <td>chico</td>\n",
              "      <td>8999</td>\n",
              "      <td>2010</td>\n",
              "      <td>nissan</td>\n",
              "      <td>murano</td>\n",
              "      <td>excellent</td>\n",
              "      <td>6 cylinders</td>\n",
              "      <td>gas</td>\n",
              "      <td>0.0</td>\n",
              "      <td>clean</td>\n",
              "      <td>automatic</td>\n",
              "      <td>4wd</td>\n",
              "      <td>NaN</td>\n",
              "      <td>SUV</td>\n",
              "      <td>NaN</td>\n",
              "      <td>ca</td>\n",
              "    </tr>\n",
              "  </tbody>\n",
              "</table>\n",
              "</div>"
            ],
            "text/plain": [
              "           region  price  year manufacturer  ...      size type paint_color state\n",
              "171   bakersfield  39990  2014          NaN  ...       NaN  NaN      orange    ca\n",
              "174   bakersfield  12990  2020          NaN  ...       NaN  NaN       white    ca\n",
              "1387  bakersfield   6498  2008        honda  ...       NaN  SUV        blue    ca\n",
              "2653        chico   4995  2002    chevrolet  ...  mid-size  SUV         red    ca\n",
              "2992        chico   8999  2010       nissan  ...       NaN  SUV         NaN    ca\n",
              "\n",
              "[5 rows x 16 columns]"
            ]
          },
          "metadata": {
            "tags": []
          },
          "execution_count": 10
        }
      ]
    },
    {
      "cell_type": "code",
      "metadata": {
        "colab": {
          "base_uri": "https://localhost:8080/",
          "height": 197
        },
        "id": "lUuUNOnDk8tD",
        "outputId": "37f40803-eb92-467a-b49e-aa9a80460878"
      },
      "source": [
        "cars[cars['odometer'].isnull()==True].head()"
      ],
      "execution_count": null,
      "outputs": [
        {
          "output_type": "execute_result",
          "data": {
            "text/html": [
              "<div>\n",
              "<style scoped>\n",
              "    .dataframe tbody tr th:only-of-type {\n",
              "        vertical-align: middle;\n",
              "    }\n",
              "\n",
              "    .dataframe tbody tr th {\n",
              "        vertical-align: top;\n",
              "    }\n",
              "\n",
              "    .dataframe thead th {\n",
              "        text-align: right;\n",
              "    }\n",
              "</style>\n",
              "<table border=\"1\" class=\"dataframe\">\n",
              "  <thead>\n",
              "    <tr style=\"text-align: right;\">\n",
              "      <th></th>\n",
              "      <th>region</th>\n",
              "      <th>price</th>\n",
              "      <th>year</th>\n",
              "      <th>manufacturer</th>\n",
              "      <th>model</th>\n",
              "      <th>condition</th>\n",
              "      <th>cylinders</th>\n",
              "      <th>fuel</th>\n",
              "      <th>odometer</th>\n",
              "      <th>title_status</th>\n",
              "      <th>transmission</th>\n",
              "      <th>drive</th>\n",
              "      <th>size</th>\n",
              "      <th>type</th>\n",
              "      <th>paint_color</th>\n",
              "      <th>state</th>\n",
              "    </tr>\n",
              "  </thead>\n",
              "  <tbody>\n",
              "    <tr>\n",
              "      <th>212</th>\n",
              "      <td>bakersfield</td>\n",
              "      <td>7975</td>\n",
              "      <td>2014</td>\n",
              "      <td>chevrolet</td>\n",
              "      <td>traverse</td>\n",
              "      <td>excellent</td>\n",
              "      <td>6 cylinders</td>\n",
              "      <td>gas</td>\n",
              "      <td>nan</td>\n",
              "      <td>clean</td>\n",
              "      <td>automatic</td>\n",
              "      <td>fwd</td>\n",
              "      <td>full-size</td>\n",
              "      <td>SUV</td>\n",
              "      <td>black</td>\n",
              "      <td>ca</td>\n",
              "    </tr>\n",
              "    <tr>\n",
              "      <th>213</th>\n",
              "      <td>bakersfield</td>\n",
              "      <td>6975</td>\n",
              "      <td>2014</td>\n",
              "      <td>buick</td>\n",
              "      <td>verano</td>\n",
              "      <td>excellent</td>\n",
              "      <td>4 cylinders</td>\n",
              "      <td>gas</td>\n",
              "      <td>nan</td>\n",
              "      <td>clean</td>\n",
              "      <td>automatic</td>\n",
              "      <td>fwd</td>\n",
              "      <td>mid-size</td>\n",
              "      <td>sedan</td>\n",
              "      <td>black</td>\n",
              "      <td>ca</td>\n",
              "    </tr>\n",
              "    <tr>\n",
              "      <th>216</th>\n",
              "      <td>bakersfield</td>\n",
              "      <td>9997</td>\n",
              "      <td>2014</td>\n",
              "      <td>honda</td>\n",
              "      <td>civic bad credit</td>\n",
              "      <td>like new</td>\n",
              "      <td>NaN</td>\n",
              "      <td>gas</td>\n",
              "      <td>nan</td>\n",
              "      <td>clean</td>\n",
              "      <td>automatic</td>\n",
              "      <td>NaN</td>\n",
              "      <td>NaN</td>\n",
              "      <td>SUV</td>\n",
              "      <td>black</td>\n",
              "      <td>ca</td>\n",
              "    </tr>\n",
              "    <tr>\n",
              "      <th>217</th>\n",
              "      <td>bakersfield</td>\n",
              "      <td>7975</td>\n",
              "      <td>2012</td>\n",
              "      <td>ford</td>\n",
              "      <td>mustang</td>\n",
              "      <td>excellent</td>\n",
              "      <td>6 cylinders</td>\n",
              "      <td>gas</td>\n",
              "      <td>nan</td>\n",
              "      <td>clean</td>\n",
              "      <td>automatic</td>\n",
              "      <td>fwd</td>\n",
              "      <td>mid-size</td>\n",
              "      <td>convertible</td>\n",
              "      <td>black</td>\n",
              "      <td>ca</td>\n",
              "    </tr>\n",
              "    <tr>\n",
              "      <th>218</th>\n",
              "      <td>bakersfield</td>\n",
              "      <td>6800</td>\n",
              "      <td>2012</td>\n",
              "      <td>honda</td>\n",
              "      <td>civic</td>\n",
              "      <td>NaN</td>\n",
              "      <td>NaN</td>\n",
              "      <td>gas</td>\n",
              "      <td>nan</td>\n",
              "      <td>clean</td>\n",
              "      <td>automatic</td>\n",
              "      <td>NaN</td>\n",
              "      <td>NaN</td>\n",
              "      <td>sedan</td>\n",
              "      <td>NaN</td>\n",
              "      <td>ca</td>\n",
              "    </tr>\n",
              "  </tbody>\n",
              "</table>\n",
              "</div>"
            ],
            "text/plain": [
              "          region  price  year  ...         type paint_color state\n",
              "212  bakersfield   7975  2014  ...          SUV       black    ca\n",
              "213  bakersfield   6975  2014  ...        sedan       black    ca\n",
              "216  bakersfield   9997  2014  ...          SUV       black    ca\n",
              "217  bakersfield   7975  2012  ...  convertible       black    ca\n",
              "218  bakersfield   6800  2012  ...        sedan         NaN    ca\n",
              "\n",
              "[5 rows x 16 columns]"
            ]
          },
          "metadata": {
            "tags": []
          },
          "execution_count": 90
        }
      ]
    },
    {
      "cell_type": "markdown",
      "metadata": {
        "id": "teXXdGoWlV0g"
      },
      "source": [
        "## We are not willing to give up on a 0 or Nan odometer readings just yet.  This might have just been forgotten in the listing for some reason.  So we will initially sort the data by year and fill with a rolling average of the surrounding 50 odometer readings."
      ]
    },
    {
      "cell_type": "code",
      "metadata": {
        "colab": {
          "base_uri": "https://localhost:8080/"
        },
        "id": "BbZOMDhmqBAV",
        "outputId": "d048f435-7620-4776-b67b-ce3f03df38e4"
      },
      "source": [
        "# Replace all odometer readings of 0 to NaN for the following cell that converts Nan vqlues to the rolling average of 25 surrounding values.\n",
        "cars['odometer'].loc[(cars['odometer'] == 0.0)] = np.nan"
      ],
      "execution_count": null,
      "outputs": [
        {
          "output_type": "stream",
          "text": [
            "/usr/local/lib/python3.7/dist-packages/pandas/core/indexing.py:670: SettingWithCopyWarning: \n",
            "A value is trying to be set on a copy of a slice from a DataFrame\n",
            "\n",
            "See the caveats in the documentation: https://pandas.pydata.org/pandas-docs/stable/user_guide/indexing.html#returning-a-view-versus-a-copy\n",
            "  iloc._setitem_with_indexer(indexer, value)\n"
          ],
          "name": "stderr"
        }
      ]
    },
    {
      "cell_type": "code",
      "metadata": {
        "colab": {
          "base_uri": "https://localhost:8080/"
        },
        "id": "oQlNriocmXKT",
        "outputId": "dc945ba8-13c1-41bc-f561-d51231386e8d"
      },
      "source": [
        "cars_t = cars.copy()\n",
        "cars_t.sort_values(by=['year'], inplace=True)\n",
        "\n",
        "cars_t['odometer'].fillna(cars_t['odometer'].rolling(50, min_periods=1).mean(), inplace=True)\n",
        "cars_t.sort_values(by=['region'], inplace=True, ascending=False)\n",
        "\n",
        "cars = cars_t\n",
        "print(len(cars[cars['odometer'].isnull()==True]))\n",
        "print(len(cars[cars['odometer']==0]))"
      ],
      "execution_count": null,
      "outputs": [
        {
          "output_type": "stream",
          "text": [
            "0\n",
            "0\n"
          ],
          "name": "stdout"
        }
      ]
    },
    {
      "cell_type": "code",
      "metadata": {
        "id": "TwsuJEShJ42D"
      },
      "source": [
        ""
      ],
      "execution_count": null,
      "outputs": []
    },
    {
      "cell_type": "code",
      "metadata": {
        "colab": {
          "base_uri": "https://localhost:8080/",
          "height": 215
        },
        "id": "elKOW4oNsr9_",
        "outputId": "e98544dc-56e8-4e74-c7a1-3e45fae13e83"
      },
      "source": [
        "cars.reset_index(drop=True, inplace=True)\n",
        "cars['odometer'] = cars['odometer'].astype(int)\n",
        "\n",
        "print(cars.shape)\n",
        "cars.head()"
      ],
      "execution_count": null,
      "outputs": [
        {
          "output_type": "stream",
          "text": [
            "(41848, 16)\n"
          ],
          "name": "stdout"
        },
        {
          "output_type": "execute_result",
          "data": {
            "text/html": [
              "<div>\n",
              "<style scoped>\n",
              "    .dataframe tbody tr th:only-of-type {\n",
              "        vertical-align: middle;\n",
              "    }\n",
              "\n",
              "    .dataframe tbody tr th {\n",
              "        vertical-align: top;\n",
              "    }\n",
              "\n",
              "    .dataframe thead th {\n",
              "        text-align: right;\n",
              "    }\n",
              "</style>\n",
              "<table border=\"1\" class=\"dataframe\">\n",
              "  <thead>\n",
              "    <tr style=\"text-align: right;\">\n",
              "      <th></th>\n",
              "      <th>region</th>\n",
              "      <th>price</th>\n",
              "      <th>year</th>\n",
              "      <th>manufacturer</th>\n",
              "      <th>model</th>\n",
              "      <th>condition</th>\n",
              "      <th>cylinders</th>\n",
              "      <th>fuel</th>\n",
              "      <th>odometer</th>\n",
              "      <th>title_status</th>\n",
              "      <th>transmission</th>\n",
              "      <th>drive</th>\n",
              "      <th>size</th>\n",
              "      <th>type</th>\n",
              "      <th>paint_color</th>\n",
              "      <th>state</th>\n",
              "    </tr>\n",
              "  </thead>\n",
              "  <tbody>\n",
              "    <tr>\n",
              "      <th>0</th>\n",
              "      <td>yuba-sutter</td>\n",
              "      <td>25999</td>\n",
              "      <td>2007</td>\n",
              "      <td>chevrolet</td>\n",
              "      <td>corvette</td>\n",
              "      <td>excellent</td>\n",
              "      <td>8 cylinders</td>\n",
              "      <td>gas</td>\n",
              "      <td>53846</td>\n",
              "      <td>clean</td>\n",
              "      <td>manual</td>\n",
              "      <td>rwd</td>\n",
              "      <td>NaN</td>\n",
              "      <td>coupe</td>\n",
              "      <td>black</td>\n",
              "      <td>ca</td>\n",
              "    </tr>\n",
              "    <tr>\n",
              "      <th>1</th>\n",
              "      <td>yuba-sutter</td>\n",
              "      <td>4999</td>\n",
              "      <td>1999</td>\n",
              "      <td>honda</td>\n",
              "      <td>accord ex</td>\n",
              "      <td>excellent</td>\n",
              "      <td>6 cylinders</td>\n",
              "      <td>gas</td>\n",
              "      <td>203881</td>\n",
              "      <td>clean</td>\n",
              "      <td>automatic</td>\n",
              "      <td>NaN</td>\n",
              "      <td>NaN</td>\n",
              "      <td>sedan</td>\n",
              "      <td>NaN</td>\n",
              "      <td>ca</td>\n",
              "    </tr>\n",
              "    <tr>\n",
              "      <th>2</th>\n",
              "      <td>yuba-sutter</td>\n",
              "      <td>10999</td>\n",
              "      <td>2012</td>\n",
              "      <td>nissan</td>\n",
              "      <td>maxima</td>\n",
              "      <td>excellent</td>\n",
              "      <td>6 cylinders</td>\n",
              "      <td>gas</td>\n",
              "      <td>98898</td>\n",
              "      <td>clean</td>\n",
              "      <td>automatic</td>\n",
              "      <td>fwd</td>\n",
              "      <td>mid-size</td>\n",
              "      <td>sedan</td>\n",
              "      <td>silver</td>\n",
              "      <td>ca</td>\n",
              "    </tr>\n",
              "    <tr>\n",
              "      <th>3</th>\n",
              "      <td>yuba-sutter</td>\n",
              "      <td>38500</td>\n",
              "      <td>2012</td>\n",
              "      <td>ford</td>\n",
              "      <td>f-150</td>\n",
              "      <td>excellent</td>\n",
              "      <td>8 cylinders</td>\n",
              "      <td>gas</td>\n",
              "      <td>107020</td>\n",
              "      <td>clean</td>\n",
              "      <td>automatic</td>\n",
              "      <td>4wd</td>\n",
              "      <td>full-size</td>\n",
              "      <td>pickup</td>\n",
              "      <td>black</td>\n",
              "      <td>ca</td>\n",
              "    </tr>\n",
              "    <tr>\n",
              "      <th>4</th>\n",
              "      <td>yuba-sutter</td>\n",
              "      <td>15999</td>\n",
              "      <td>2009</td>\n",
              "      <td>lexus</td>\n",
              "      <td>is 250</td>\n",
              "      <td>excellent</td>\n",
              "      <td>6 cylinders</td>\n",
              "      <td>gas</td>\n",
              "      <td>45704</td>\n",
              "      <td>clean</td>\n",
              "      <td>automatic</td>\n",
              "      <td>rwd</td>\n",
              "      <td>sub-compact</td>\n",
              "      <td>sedan</td>\n",
              "      <td>red</td>\n",
              "      <td>ca</td>\n",
              "    </tr>\n",
              "  </tbody>\n",
              "</table>\n",
              "</div>"
            ],
            "text/plain": [
              "        region  price  year manufacturer  ...         size    type paint_color state\n",
              "0  yuba-sutter  25999  2007    chevrolet  ...          NaN   coupe       black    ca\n",
              "1  yuba-sutter   4999  1999        honda  ...          NaN   sedan         NaN    ca\n",
              "2  yuba-sutter  10999  2012       nissan  ...     mid-size   sedan      silver    ca\n",
              "3  yuba-sutter  38500  2012         ford  ...    full-size  pickup       black    ca\n",
              "4  yuba-sutter  15999  2009        lexus  ...  sub-compact   sedan         red    ca\n",
              "\n",
              "[5 rows x 16 columns]"
            ]
          },
          "metadata": {
            "tags": []
          },
          "execution_count": 17
        }
      ]
    },
    {
      "cell_type": "markdown",
      "metadata": {
        "id": "uETmBbwUuwyi"
      },
      "source": [
        "###Checking continuous variable outliers:"
      ]
    },
    {
      "cell_type": "code",
      "metadata": {
        "colab": {
          "base_uri": "https://localhost:8080/"
        },
        "id": "AI7_vQ53vIIb",
        "outputId": "fa2ac116-1258-4faa-f26f-8d16a2bbe758"
      },
      "source": [
        "cars.price.sort_values()"
      ],
      "execution_count": null,
      "outputs": [
        {
          "output_type": "execute_result",
          "data": {
            "text/plain": [
              "23129             1\n",
              "16066             1\n",
              "34325             1\n",
              "30349             1\n",
              "31755             1\n",
              "            ...    \n",
              "12914        339998\n",
              "23885        599000\n",
              "9391         888777\n",
              "37018      11111111\n",
              "25164    2808348671\n",
              "Name: price, Length: 41848, dtype: int64"
            ]
          },
          "metadata": {
            "tags": []
          },
          "execution_count": 94
        }
      ]
    },
    {
      "cell_type": "code",
      "metadata": {
        "colab": {
          "base_uri": "https://localhost:8080/"
        },
        "id": "lBwVnksYzdXx",
        "outputId": "83e29541-f847-468a-da14-d2d4251e224f"
      },
      "source": [
        "cars.odometer.sort_values()"
      ],
      "execution_count": null,
      "outputs": [
        {
          "output_type": "execute_result",
          "data": {
            "text/plain": [
              "11861           1\n",
              "18669           1\n",
              "41246           1\n",
              "4638            1\n",
              "40192           1\n",
              "           ...   \n",
              "32724    10000000\n",
              "31645    10000000\n",
              "40958    10000000\n",
              "30952    10000000\n",
              "10283    10000000\n",
              "Name: odometer, Length: 41848, dtype: int64"
            ]
          },
          "metadata": {
            "tags": []
          },
          "execution_count": 95
        }
      ]
    },
    {
      "cell_type": "code",
      "metadata": {
        "colab": {
          "base_uri": "https://localhost:8080/",
          "height": 337
        },
        "id": "pExdr-qOum4O",
        "outputId": "dd31f232-179f-4584-e472-0e5ad9ff2280"
      },
      "source": [
        "# Box Plot visualizing investigating outliers\n",
        "plt.figure(figsize = (15,5))\n",
        "\n",
        "plt.subplot(1,2,1)\n",
        "plt.boxplot(np.log(cars[\"price\"]), whis=1.5)\n",
        "plt.title(\"price\")\n",
        "\n",
        "plt.subplot(1,2,2)\n",
        "plt.boxplot(np.log(cars[\"odometer\"]), whis=1.5)\n",
        "plt.title(\"odometer\")\n",
        "plt.show()"
      ],
      "execution_count": null,
      "outputs": [
        {
          "output_type": "display_data",
          "data": {
            "image/png": "[encoded data removed]",
            "text/plain": [
              "<Figure size 1080x360 with 2 Axes>"
            ]
          },
          "metadata": {
            "tags": []
          }
        }
      ]
    },
    {
      "cell_type": "code",
      "metadata": {
        "id": "bXfuDcDhzykI"
      },
      "source": [
        "# Determine number of outliers:\n",
        "\n",
        "def tukey_IQR(cars, col):\n",
        "  q75, q25 = np.percentile(cars[col], [75 ,25])\n",
        "  iqr = q75 - q25\n",
        "\n",
        "  for threshold in np.arange(1,2,0.5):\n",
        "    min_val = q25 - (iqr*threshold)\n",
        "    max_val = q75 + (iqr*threshold)\n",
        "    print(\"\\tThe score threshold is: {}\".format(threshold))\n",
        "    print(\"\\tNumber of outliers is: {}\".format(\n",
        "        len((np.where((cars[col] > max_val) \n",
        "                      | (cars[col] < min_val))[0]))\n",
        "    ))\n"
      ],
      "execution_count": null,
      "outputs": []
    },
    {
      "cell_type": "code",
      "metadata": {
        "colab": {
          "base_uri": "https://localhost:8080/"
        },
        "id": "5oKkH6YD5H1n",
        "outputId": "0045336a-08d9-442d-9a0c-29642e869c67"
      },
      "source": [
        "print(\"Tukey IQR Outliers -  price:\")\n",
        "tukey_IQR(cars, \"price\")\n",
        "\n",
        "print(\"\\nTukey IQR Outliers -  odometer:\")\n",
        "tukey_IQR(cars, \"odometer\")"
      ],
      "execution_count": null,
      "outputs": [
        {
          "output_type": "stream",
          "text": [
            "Tukey IQR Outliers -  price:\n",
            "\tThe score threshold is: 1.0\n",
            "\tNumber of outliers is: 2551\n",
            "\tThe score threshold is: 1.5\n",
            "\tNumber of outliers is: 1383\n",
            "\n",
            "Tukey IQR Outliers -  odometer:\n",
            "\tThe score threshold is: 1.0\n",
            "\tNumber of outliers is: 1458\n",
            "\tThe score threshold is: 1.5\n",
            "\tNumber of outliers is: 611\n"
          ],
          "name": "stdout"
        }
      ]
    },
    {
      "cell_type": "markdown",
      "metadata": {
        "id": "-aRWUTH_45cZ"
      },
      "source": [
        "##Outlier approach:  \n",
        "###Extreme price and odometer outliers do not contribute to developing a good predictive model for determing the appropriate listing price.  Therefore, we will remove two-tailed price and odometer outliers at q1=0.05 and q3=0.95. "
      ]
    },
    {
      "cell_type": "code",
      "metadata": {
        "id": "myVtRDS6zy-2"
      },
      "source": [
        "def filter_outlier(cars, col):\n",
        "  q_low = cars[col].quantile(0.05)\n",
        "  q_hi  = cars[col].quantile(0.95)\n",
        "\n",
        "  cars = cars[(cars[col] < q_hi) & (cars[col] > q_low)]\n",
        "\n",
        "  print(\"\\nTukey IQR Outliers -  \", col, \":\")\n",
        "  tukey_IQR(cars, col)\n",
        "\n",
        "  return cars"
      ],
      "execution_count": null,
      "outputs": []
    },
    {
      "cell_type": "code",
      "metadata": {
        "colab": {
          "base_uri": "https://localhost:8080/"
        },
        "id": "I49dFCBHsTdM",
        "outputId": "122e2959-74ea-44f0-850b-fe9cb70e7759"
      },
      "source": [
        "cars = filter_outlier(cars, \"price\")\n",
        "cars = filter_outlier(cars, 'odometer')"
      ],
      "execution_count": null,
      "outputs": [
        {
          "output_type": "stream",
          "text": [
            "\n",
            "Tukey IQR Outliers -   price :\n",
            "\tThe score threshold is: 1.0\n",
            "\tNumber of outliers is: 1352\n",
            "\tThe score threshold is: 1.5\n",
            "\tNumber of outliers is: 0\n",
            "\n",
            "Tukey IQR Outliers -   odometer :\n",
            "\tThe score threshold is: 1.0\n",
            "\tNumber of outliers is: 0\n",
            "\tThe score threshold is: 1.5\n",
            "\tNumber of outliers is: 0\n"
          ],
          "name": "stdout"
        }
      ]
    },
    {
      "cell_type": "code",
      "metadata": {
        "colab": {
          "base_uri": "https://localhost:8080/"
        },
        "id": "E2q1zZdxKjbn",
        "outputId": "ac0a8491-64d6-4c81-cd02-e010fe733b91"
      },
      "source": [
        "cars.shape"
      ],
      "execution_count": null,
      "outputs": [
        {
          "output_type": "execute_result",
          "data": {
            "text/plain": [
              "(33864, 16)"
            ]
          },
          "metadata": {
            "tags": []
          },
          "execution_count": 22
        }
      ]
    },
    {
      "cell_type": "markdown",
      "metadata": {
        "id": "Dor0uwmji0p5"
      },
      "source": [
        "##Visually show outliers removed."
      ]
    },
    {
      "cell_type": "code",
      "metadata": {
        "colab": {
          "base_uri": "https://localhost:8080/",
          "height": 337
        },
        "id": "rOq1naeAnWuF",
        "outputId": "d0a7db4b-37a8-4e0d-fc99-83843ada1f8d"
      },
      "source": [
        "plt.figure(figsize = (15,5))\n",
        "\n",
        "plt.subplot(1,2,1)\n",
        "plt.boxplot(np.log(cars[\"price\"]), whis=1.5)\n",
        "plt.title(\"price\")\n",
        "\n",
        "plt.subplot(1,2,2)\n",
        "plt.boxplot(np.log(cars[\"odometer\"]), whis=1.5)\n",
        "plt.title(\"odometer\")\n",
        "plt.show()"
      ],
      "execution_count": null,
      "outputs": [
        {
          "output_type": "display_data",
          "data": {
            "image/png": "[encoded data removed]",
            "text/plain": [
              "<Figure size 1080x360 with 2 Axes>"
            ]
          },
          "metadata": {
            "tags": []
          }
        }
      ]
    },
    {
      "cell_type": "markdown",
      "metadata": {
        "id": "lpPuMgGroVBQ"
      },
      "source": [
        "####Much cleaner looking continuous variables."
      ]
    },
    {
      "cell_type": "code",
      "metadata": {
        "colab": {
          "base_uri": "https://localhost:8080/",
          "height": 287
        },
        "id": "6wjk4iU-CYpL",
        "outputId": "911bfe68-2278-424d-eb9f-6dcf466d1648"
      },
      "source": [
        "# Confirm stability of continuous numeric values after removing outliers:\n",
        "\n",
        "cars.describe()"
      ],
      "execution_count": null,
      "outputs": [
        {
          "output_type": "execute_result",
          "data": {
            "text/html": [
              "<div>\n",
              "<style scoped>\n",
              "    .dataframe tbody tr th:only-of-type {\n",
              "        vertical-align: middle;\n",
              "    }\n",
              "\n",
              "    .dataframe tbody tr th {\n",
              "        vertical-align: top;\n",
              "    }\n",
              "\n",
              "    .dataframe thead th {\n",
              "        text-align: right;\n",
              "    }\n",
              "</style>\n",
              "<table border=\"1\" class=\"dataframe\">\n",
              "  <thead>\n",
              "    <tr style=\"text-align: right;\">\n",
              "      <th></th>\n",
              "      <th>price</th>\n",
              "      <th>year</th>\n",
              "      <th>odometer</th>\n",
              "    </tr>\n",
              "  </thead>\n",
              "  <tbody>\n",
              "    <tr>\n",
              "      <th>count</th>\n",
              "      <td>33864.000</td>\n",
              "      <td>33864.000</td>\n",
              "      <td>33864.000</td>\n",
              "    </tr>\n",
              "    <tr>\n",
              "      <th>mean</th>\n",
              "      <td>16113.995</td>\n",
              "      <td>2010.753</td>\n",
              "      <td>86250.181</td>\n",
              "    </tr>\n",
              "    <tr>\n",
              "      <th>std</th>\n",
              "      <td>9742.311</td>\n",
              "      <td>8.849</td>\n",
              "      <td>46745.516</td>\n",
              "    </tr>\n",
              "    <tr>\n",
              "      <th>min</th>\n",
              "      <td>2050.000</td>\n",
              "      <td>1900.000</td>\n",
              "      <td>10547.000</td>\n",
              "    </tr>\n",
              "    <tr>\n",
              "      <th>25%</th>\n",
              "      <td>8495.000</td>\n",
              "      <td>2008.000</td>\n",
              "      <td>46000.000</td>\n",
              "    </tr>\n",
              "    <tr>\n",
              "      <th>50%</th>\n",
              "      <td>13990.000</td>\n",
              "      <td>2013.000</td>\n",
              "      <td>82764.000</td>\n",
              "    </tr>\n",
              "    <tr>\n",
              "      <th>75%</th>\n",
              "      <td>21999.000</td>\n",
              "      <td>2016.000</td>\n",
              "      <td>121000.000</td>\n",
              "    </tr>\n",
              "    <tr>\n",
              "      <th>max</th>\n",
              "      <td>42988.000</td>\n",
              "      <td>2020.000</td>\n",
              "      <td>194144.000</td>\n",
              "    </tr>\n",
              "  </tbody>\n",
              "</table>\n",
              "</div>"
            ],
            "text/plain": [
              "          price      year   odometer\n",
              "count 33864.000 33864.000  33864.000\n",
              "mean  16113.995  2010.753  86250.181\n",
              "std    9742.311     8.849  46745.516\n",
              "min    2050.000  1900.000  10547.000\n",
              "25%    8495.000  2008.000  46000.000\n",
              "50%   13990.000  2013.000  82764.000\n",
              "75%   21999.000  2016.000 121000.000\n",
              "max   42988.000  2020.000 194144.000"
            ]
          },
          "metadata": {
            "tags": []
          },
          "execution_count": 103
        }
      ]
    },
    {
      "cell_type": "markdown",
      "metadata": {
        "id": "vz_g5ay3n4DG"
      },
      "source": [
        "##Categorical variables:"
      ]
    },
    {
      "cell_type": "code",
      "metadata": {
        "colab": {
          "base_uri": "https://localhost:8080/"
        },
        "id": "6dA690wrMxSo",
        "outputId": "28739e78-10cb-40aa-ccd7-4f1a6eb11657"
      },
      "source": [
        "#Investigate nulls\n",
        "\n",
        "Nan_sum = cars.isnull().sum()\n",
        "Nan_sum"
      ],
      "execution_count": null,
      "outputs": [
        {
          "output_type": "execute_result",
          "data": {
            "text/plain": [
              "region              0\n",
              "price               0\n",
              "year                0\n",
              "manufacturer      898\n",
              "model             261\n",
              "condition       10342\n",
              "cylinders       12717\n",
              "fuel              115\n",
              "odometer            0\n",
              "title_status      106\n",
              "transmission      168\n",
              "drive           10743\n",
              "size            24686\n",
              "type             6558\n",
              "paint_color      9739\n",
              "state               0\n",
              "dtype: int64"
            ]
          },
          "metadata": {
            "tags": []
          },
          "execution_count": 104
        }
      ]
    },
    {
      "cell_type": "code",
      "metadata": {
        "colab": {
          "base_uri": "https://localhost:8080/"
        },
        "id": "GVi674yEMeva",
        "outputId": "901937ba-7c46-4879-90ad-3675ba5d27ee"
      },
      "source": [
        "# What percent are null \n",
        "cars.isnull().mean()"
      ],
      "execution_count": null,
      "outputs": [
        {
          "output_type": "execute_result",
          "data": {
            "text/plain": [
              "region         0.000\n",
              "price          0.000\n",
              "year           0.000\n",
              "manufacturer   0.027\n",
              "model          0.008\n",
              "condition      0.305\n",
              "cylinders      0.376\n",
              "fuel           0.003\n",
              "odometer       0.000\n",
              "title_status   0.003\n",
              "transmission   0.005\n",
              "drive          0.317\n",
              "size           0.729\n",
              "type           0.194\n",
              "paint_color    0.288\n",
              "state          0.000\n",
              "dtype: float64"
            ]
          },
          "metadata": {
            "tags": []
          },
          "execution_count": 105
        }
      ]
    },
    {
      "cell_type": "markdown",
      "metadata": {
        "id": "qd_S4p-fiaZ8"
      },
      "source": [
        "###Eliminate any category having more than 40% null values:"
      ]
    },
    {
      "cell_type": "code",
      "metadata": {
        "id": "s_zhEXxWiZ8f"
      },
      "source": [
        "cars.drop(cars.columns[cars.apply(lambda col: col.isnull().mean() > 0.4)], axis=1, inplace=True)"
      ],
      "execution_count": null,
      "outputs": []
    },
    {
      "cell_type": "code",
      "metadata": {
        "colab": {
          "base_uri": "https://localhost:8080/"
        },
        "id": "9vuj6jtzsFQS",
        "outputId": "1607cc02-d2ee-4bf0-e54c-d996a14a764b"
      },
      "source": [
        "# Variable size has been eliminated because 73% is missing from listings.\n",
        "cars.columns"
      ],
      "execution_count": null,
      "outputs": [
        {
          "output_type": "execute_result",
          "data": {
            "text/plain": [
              "Index(['region', 'price', 'year', 'manufacturer', 'model', 'condition',\n",
              "       'cylinders', 'fuel', 'odometer', 'title_status', 'transmission',\n",
              "       'drive', 'type', 'paint_color', 'state'],\n",
              "      dtype='object')"
            ]
          },
          "metadata": {
            "tags": []
          },
          "execution_count": 107
        }
      ]
    },
    {
      "cell_type": "markdown",
      "metadata": {
        "id": "BCu50Xcclonm"
      },
      "source": [
        "###Categorical investigation.\n",
        "1. Replace nan with appropriate alternative\n",
        "2. Investigate and consider encoding options for categorical features."
      ]
    },
    {
      "cell_type": "code",
      "metadata": {
        "colab": {
          "base_uri": "https://localhost:8080/"
        },
        "id": "Pz9R_BZvNXz5",
        "outputId": "3c9f45e2-bfab-4693-d04a-e532274b05ae"
      },
      "source": [
        "cars.manufacturer.unique()"
      ],
      "execution_count": null,
      "outputs": [
        {
          "output_type": "execute_result",
          "data": {
            "text/plain": [
              "array(['chevrolet', 'nissan', 'ford', 'lexus', 'hyundai', 'honda',\n",
              "       'dodge', 'toyota', 'subaru', 'mercedes-benz', 'jeep', 'cadillac',\n",
              "       'gmc', 'ram', 'kia', 'bmw', 'mazda', nan, 'pontiac', 'jaguar',\n",
              "       'saturn', 'volkswagen', 'audi', 'infiniti', 'chrysler', 'lincoln',\n",
              "       'acura', 'buick', 'fiat', 'mini', 'rover', 'mitsubishi', 'volvo',\n",
              "       'mercury', 'porsche', 'tesla', 'alfa-romeo', 'datsun',\n",
              "       'aston-martin', 'harley-davidson', 'land rover'], dtype=object)"
            ]
          },
          "metadata": {
            "tags": []
          },
          "execution_count": 108
        }
      ]
    },
    {
      "cell_type": "code",
      "metadata": {
        "id": "6twHwuYS-37J"
      },
      "source": [
        "# delete 'harley-davidson' as we are looking at cars not motorcycles.\n",
        "cars.drop(cars[cars['manufacturer']=='harley-davidson'].index, inplace=True)"
      ],
      "execution_count": null,
      "outputs": []
    },
    {
      "cell_type": "code",
      "metadata": {
        "colab": {
          "base_uri": "https://localhost:8080/"
        },
        "id": "Ux8cPaqZCGzc",
        "outputId": "9db496c3-792d-487b-ada9-5e47bc1b92ea"
      },
      "source": [
        "print(\"condition: \", cars.condition.unique())\n",
        "print(\"\\nmodel: \", cars.model.unique())\n",
        "print(\"\\nfuel: \", cars.fuel.unique())\n",
        "print(\"\\nCylinders: \",cars.cylinders.unique())\n",
        "print(\"\\ntitle_status: \", cars.title_status.unique())\n",
        "print(\"\\ntransmission: \", cars.transmission.unique())\n",
        "print(\"\\ndrive: \", cars.drive.unique())\n",
        "print(\"\\npaint_color: \", cars.paint_color.unique())\n",
        "print(\"\\ntype: \", cars.type.unique())"
      ],
      "execution_count": null,
      "outputs": [
        {
          "output_type": "stream",
          "text": [
            "condition:  ['excellent' 'good' nan 'like new' 'fair' 'salvage' 'new']\n",
            "\n",
            "model:  ['corvette' 'maxima' 'f-150' ... 'x5 awd 4dr 35d' 'm45'\n",
            " 'transit connect cargo van']\n",
            "\n",
            "fuel:  ['gas' 'other' 'diesel' 'hybrid' 'electric' nan]\n",
            "\n",
            "Cylinders:  ['8 cylinders' '6 cylinders' nan '4 cylinders' '5 cylinders'\n",
            " '10 cylinders' 'other' '3 cylinders' '12 cylinders']\n",
            "\n",
            "title_status:  ['clean' 'salvage' 'missing' 'lien' nan 'rebuilt' 'parts only']\n",
            "\n",
            "transmission:  ['manual' 'automatic' 'other' nan]\n",
            "\n",
            "drive:  ['rwd' 'fwd' '4wd' nan]\n",
            "\n",
            "paint_color:  ['black' 'silver' 'red' 'blue' nan 'white' 'brown' 'grey' 'yellow' 'green'\n",
            " 'orange' 'custom' 'purple']\n",
            "\n",
            "type:  ['coupe' 'sedan' 'pickup' 'hatchback' nan 'SUV' 'truck' 'convertible'\n",
            " 'wagon' 'other' 'mini-van' 'van' 'offroad' 'bus']\n"
          ],
          "name": "stdout"
        }
      ]
    },
    {
      "cell_type": "code",
      "metadata": {
        "id": "fvDGkq_XACsu",
        "colab": {
          "base_uri": "https://localhost:8080/"
        },
        "outputId": "fb8326ba-d7ce-435d-efbf-4cc9ba2e18f7"
      },
      "source": [
        "# replace Nan with 'other' or category mode for 'title', 'transmission', and 'title_status'.\n",
        "categories = ['transmission', 'fuel', 'title_status', 'manufacturer', \n",
        "              'model', 'condition', 'cylinders', 'drive', 'type', 'paint_color']\n",
        "\n",
        "for col in categories:\n",
        "  cars[col].fillna('other', inplace=True)\n",
        "\n",
        "cars.info()"
      ],
      "execution_count": null,
      "outputs": [
        {
          "output_type": "stream",
          "text": [
            "<class 'pandas.core.frame.DataFrame'>\n",
            "Int64Index: 33857 entries, 0 to 41847\n",
            "Data columns (total 15 columns):\n",
            " #   Column        Non-Null Count  Dtype \n",
            "---  ------        --------------  ----- \n",
            " 0   region        33857 non-null  object\n",
            " 1   price         33857 non-null  int64 \n",
            " 2   year          33857 non-null  int64 \n",
            " 3   manufacturer  33857 non-null  object\n",
            " 4   model         33857 non-null  object\n",
            " 5   condition     33857 non-null  object\n",
            " 6   cylinders     33857 non-null  object\n",
            " 7   fuel          33857 non-null  object\n",
            " 8   odometer      33857 non-null  int64 \n",
            " 9   title_status  33857 non-null  object\n",
            " 10  transmission  33857 non-null  object\n",
            " 11  drive         33857 non-null  object\n",
            " 12  type          33857 non-null  object\n",
            " 13  paint_color   33857 non-null  object\n",
            " 14  state         33857 non-null  object\n",
            "dtypes: int64(3), object(12)\n",
            "memory usage: 4.1+ MB\n"
          ],
          "name": "stdout"
        }
      ]
    },
    {
      "cell_type": "code",
      "metadata": {
        "id": "MSm7Kdo6Tg6Q",
        "colab": {
          "base_uri": "https://localhost:8080/",
          "height": 197
        },
        "outputId": "793c3141-aae1-4e52-bd92-2136f0efbfc6"
      },
      "source": [
        "cars.tail()"
      ],
      "execution_count": null,
      "outputs": [
        {
          "output_type": "execute_result",
          "data": {
            "text/html": [
              "<div>\n",
              "<style scoped>\n",
              "    .dataframe tbody tr th:only-of-type {\n",
              "        vertical-align: middle;\n",
              "    }\n",
              "\n",
              "    .dataframe tbody tr th {\n",
              "        vertical-align: top;\n",
              "    }\n",
              "\n",
              "    .dataframe thead th {\n",
              "        text-align: right;\n",
              "    }\n",
              "</style>\n",
              "<table border=\"1\" class=\"dataframe\">\n",
              "  <thead>\n",
              "    <tr style=\"text-align: right;\">\n",
              "      <th></th>\n",
              "      <th>region</th>\n",
              "      <th>price</th>\n",
              "      <th>year</th>\n",
              "      <th>manufacturer</th>\n",
              "      <th>model</th>\n",
              "      <th>condition</th>\n",
              "      <th>cylinders</th>\n",
              "      <th>fuel</th>\n",
              "      <th>odometer</th>\n",
              "      <th>title_status</th>\n",
              "      <th>transmission</th>\n",
              "      <th>drive</th>\n",
              "      <th>type</th>\n",
              "      <th>paint_color</th>\n",
              "      <th>state</th>\n",
              "    </tr>\n",
              "  </thead>\n",
              "  <tbody>\n",
              "    <tr>\n",
              "      <th>41843</th>\n",
              "      <td>SF bay area</td>\n",
              "      <td>2999</td>\n",
              "      <td>2000</td>\n",
              "      <td>honda</td>\n",
              "      <td>odyssey</td>\n",
              "      <td>excellent</td>\n",
              "      <td>6 cylinders</td>\n",
              "      <td>gas</td>\n",
              "      <td>188301</td>\n",
              "      <td>clean</td>\n",
              "      <td>automatic</td>\n",
              "      <td>fwd</td>\n",
              "      <td>mini-van</td>\n",
              "      <td>other</td>\n",
              "      <td>ca</td>\n",
              "    </tr>\n",
              "    <tr>\n",
              "      <th>41844</th>\n",
              "      <td>SF bay area</td>\n",
              "      <td>29987</td>\n",
              "      <td>2018</td>\n",
              "      <td>bmw</td>\n",
              "      <td>x2</td>\n",
              "      <td>other</td>\n",
              "      <td>4 cylinders</td>\n",
              "      <td>gas</td>\n",
              "      <td>18409</td>\n",
              "      <td>clean</td>\n",
              "      <td>automatic</td>\n",
              "      <td>4wd</td>\n",
              "      <td>SUV</td>\n",
              "      <td>black</td>\n",
              "      <td>ca</td>\n",
              "    </tr>\n",
              "    <tr>\n",
              "      <th>41845</th>\n",
              "      <td>SF bay area</td>\n",
              "      <td>5900</td>\n",
              "      <td>2000</td>\n",
              "      <td>toyota</td>\n",
              "      <td>tacoma</td>\n",
              "      <td>other</td>\n",
              "      <td>other</td>\n",
              "      <td>gas</td>\n",
              "      <td>139000</td>\n",
              "      <td>clean</td>\n",
              "      <td>manual</td>\n",
              "      <td>rwd</td>\n",
              "      <td>other</td>\n",
              "      <td>other</td>\n",
              "      <td>ca</td>\n",
              "    </tr>\n",
              "    <tr>\n",
              "      <th>41846</th>\n",
              "      <td>SF bay area</td>\n",
              "      <td>16500</td>\n",
              "      <td>2016</td>\n",
              "      <td>honda</td>\n",
              "      <td>cr-v</td>\n",
              "      <td>other</td>\n",
              "      <td>other</td>\n",
              "      <td>gas</td>\n",
              "      <td>57818</td>\n",
              "      <td>clean</td>\n",
              "      <td>automatic</td>\n",
              "      <td>fwd</td>\n",
              "      <td>other</td>\n",
              "      <td>other</td>\n",
              "      <td>ca</td>\n",
              "    </tr>\n",
              "    <tr>\n",
              "      <th>41847</th>\n",
              "      <td>SF bay area</td>\n",
              "      <td>16000</td>\n",
              "      <td>2019</td>\n",
              "      <td>dodge</td>\n",
              "      <td>grand caravan gt</td>\n",
              "      <td>good</td>\n",
              "      <td>other</td>\n",
              "      <td>other</td>\n",
              "      <td>37882</td>\n",
              "      <td>clean</td>\n",
              "      <td>automatic</td>\n",
              "      <td>fwd</td>\n",
              "      <td>van</td>\n",
              "      <td>other</td>\n",
              "      <td>ca</td>\n",
              "    </tr>\n",
              "  </tbody>\n",
              "</table>\n",
              "</div>"
            ],
            "text/plain": [
              "            region  price  year manufacturer  ... drive      type paint_color state\n",
              "41843  SF bay area   2999  2000        honda  ...   fwd  mini-van       other    ca\n",
              "41844  SF bay area  29987  2018          bmw  ...   4wd       SUV       black    ca\n",
              "41845  SF bay area   5900  2000       toyota  ...   rwd     other       other    ca\n",
              "41846  SF bay area  16500  2016        honda  ...   fwd     other       other    ca\n",
              "41847  SF bay area  16000  2019        dodge  ...   fwd       van       other    ca\n",
              "\n",
              "[5 rows x 15 columns]"
            ]
          },
          "metadata": {
            "tags": []
          },
          "execution_count": 112
        }
      ]
    },
    {
      "cell_type": "markdown",
      "metadata": {
        "id": "CoJS67aYtkep"
      },
      "source": [
        "## All variables have been cleaned up through Exploratory Data Analysis(EDA).  We will gather a bit more perspective through visualizations before we develop our Supervised Learning Model."
      ]
    },
    {
      "cell_type": "markdown",
      "metadata": {
        "id": "9yPvxF-AI24I"
      },
      "source": [
        "#Variable visualization:"
      ]
    },
    {
      "cell_type": "markdown",
      "metadata": {
        "id": "sbQfohfVbPpr"
      },
      "source": [
        "###I. Categorical features:"
      ]
    },
    {
      "cell_type": "code",
      "metadata": {
        "id": "xZP6XDZLphsB",
        "colab": {
          "base_uri": "https://localhost:8080/",
          "height": 703
        },
        "outputId": "03dbb79e-5864-49f1-90c1-f8afc490c888"
      },
      "source": [
        "col_t = ['manufacturer', 'title_status', 'fuel', 'drive']\n",
        "#, 'fuel','title_status', 'transmission', 'drive', 'size', 'type', 'paint_color'\n",
        "\n",
        "fig, axs = plt.subplots(nrows=2, ncols=2, figsize=(18,10))\n",
        "\n",
        "for i, var in enumerate(col_t):\n",
        "  row = i//2\n",
        "  col = i % 2\n",
        "  plot = sns.countplot(x=var, data=cars, order = cars[var].value_counts().index, ax=axs[row][col])\n",
        "  var = plot.set_xticklabels(plot.get_xticklabels(), rotation=90)\n",
        "fig.tight_layout(pad=2.0)"
      ],
      "execution_count": null,
      "outputs": [
        {
          "output_type": "display_data",
          "data": {
            "image/png": "[encoded data removed]",
            "text/plain": [
              "<Figure size 1296x720 with 4 Axes>"
            ]
          },
          "metadata": {
            "tags": []
          }
        }
      ]
    },
    {
      "cell_type": "code",
      "metadata": {
        "id": "VIX5HLgUKaJS",
        "colab": {
          "base_uri": "https://localhost:8080/",
          "height": 703
        },
        "outputId": "ff1a915f-4ac8-4ffc-9c63-afa0e832fc32"
      },
      "source": [
        "col_t2 = ['region', 'type', 'transmission','cylinders']\n",
        "fig, axs = plt.subplots(nrows=2, ncols=2, figsize=(18, 10)) \n",
        "\n",
        "for i, var in enumerate(col_t2):\n",
        "    row = i//2\n",
        "    col = i % 2    \n",
        "    plot = sns.countplot(x=var, data=cars, order = cars[var].value_counts().index, ax=axs[row][col])\n",
        "    var = plot.set_xticklabels(plot.get_xticklabels(), rotation=90)\n",
        "fig.tight_layout(pad=2.0)"
      ],
      "execution_count": null,
      "outputs": [
        {
          "output_type": "display_data",
          "data": {
            "image/png": "[encoded data removed]",
            "text/plain": [
              "<Figure size 1296x720 with 4 Axes>"
            ]
          },
          "metadata": {
            "tags": []
          }
        }
      ]
    },
    {
      "cell_type": "code",
      "metadata": {
        "id": "s4tmJdi1a5_k",
        "colab": {
          "base_uri": "https://localhost:8080/",
          "height": 343
        },
        "outputId": "5925a84a-e3b2-481f-8fa5-0fd556215a79"
      },
      "source": [
        "col = ['condition', 'paint_color']\n",
        "\n",
        "fig, axs = plt.subplots(ncols=2, figsize=(18,5))\n",
        "\n",
        "for i, var in enumerate(col):\n",
        "  row = i//2\n",
        "  col = i % 2\n",
        "  plot = sns.countplot(x=var, data=cars, order = cars[var].value_counts().index, ax=axs[col])\n",
        "  var = plot.set_xticklabels(plot.get_xticklabels(), rotation=90)\n",
        "fig.tight_layout(pad=2.0)"
      ],
      "execution_count": null,
      "outputs": [
        {
          "output_type": "display_data",
          "data": {
            "image/png": "[encoded data removed]",
            "text/plain": [
              "<Figure size 1296x360 with 2 Axes>"
            ]
          },
          "metadata": {
            "tags": []
          }
        }
      ]
    },
    {
      "cell_type": "markdown",
      "metadata": {
        "id": "mPU5ck7g5Mjl"
      },
      "source": [
        "##II. Continuous Feature 'year' revisited:"
      ]
    },
    {
      "cell_type": "code",
      "metadata": {
        "colab": {
          "base_uri": "https://localhost:8080/",
          "height": 356
        },
        "id": "PF1M6WKC5NTR",
        "outputId": "2c453275-9f0d-424c-c29d-c4c789c94c05"
      },
      "source": [
        "# YEAR\n",
        "plt.figure(figsize=(18,5))\n",
        "sns.set_theme(style=\"darkgrid\")\n",
        "stat = sns.countplot(x=\"year\", data=cars)\n",
        "var = stat.set_xticklabels(stat.get_xticklabels(), rotation=90)"
      ],
      "execution_count": null,
      "outputs": [
        {
          "output_type": "display_data",
          "data": {
            "image/png": "[encoded data removed]",
            "text/plain": [
              "<Figure size 1296x360 with 1 Axes>"
            ]
          },
          "metadata": {
            "tags": []
          }
        }
      ]
    },
    {
      "cell_type": "markdown",
      "metadata": {
        "id": "jHJz-ss55N3F"
      },
      "source": [
        "###It appears we are looking at too many model years.  At some point cars at a certain age become collectors, antiques, or just too difficult to quantify.  So we will filter our cars from the year 2000 to present 2021.  We will continue to tweak and clean data as we see fit.\n"
      ]
    },
    {
      "cell_type": "code",
      "metadata": {
        "id": "nWfXwpoe5OGm"
      },
      "source": [
        "cars = cars[cars.year >= 2000]"
      ],
      "execution_count": null,
      "outputs": []
    },
    {
      "cell_type": "code",
      "metadata": {
        "colab": {
          "base_uri": "https://localhost:8080/",
          "height": 356
        },
        "id": "cGRidcHC5wOb",
        "outputId": "d89e876f-340a-4d69-9fc9-46763f5e22d9"
      },
      "source": [
        "# YEAR\n",
        "plt.figure(figsize=(18,5))\n",
        "sns.set_theme(style=\"darkgrid\")\n",
        "stat = sns.countplot(x=\"year\", data=cars)\n",
        "var = stat.set_xticklabels(stat.get_xticklabels(), rotation=90)"
      ],
      "execution_count": null,
      "outputs": [
        {
          "output_type": "display_data",
          "data": {
            "image/png": "[encoded data removed]",
            "text/plain": [
              "<Figure size 1296x360 with 1 Axes>"
            ]
          },
          "metadata": {
            "tags": [],
            "needs_background": "light"
          }
        }
      ]
    },
    {
      "cell_type": "code",
      "metadata": {
        "colab": {
          "base_uri": "https://localhost:8080/",
          "height": 356
        },
        "id": "oSgYy0ex6Gh8",
        "outputId": "c07edbb1-00ae-4d44-ef58-93ed1978bc50"
      },
      "source": [
        "# Mean price per year\n",
        "\n",
        "price_ave = cars[['price','year']].groupby('year').mean()\n",
        "\n",
        "plt.figure(figsize=(18,5))\n",
        "pr = sns.barplot(x=price_ave.index, y=\"price\", data=price_ave)\n",
        "var = pr.set_xticklabels(pr.get_xticklabels(), rotation=90)"
      ],
      "execution_count": null,
      "outputs": [
        {
          "output_type": "display_data",
          "data": {
            "image/png": "[encoded data removed]",
            "text/plain": [
              "<Figure size 1296x360 with 1 Axes>"
            ]
          },
          "metadata": {
            "tags": []
          }
        }
      ]
    },
    {
      "cell_type": "code",
      "metadata": {
        "colab": {
          "base_uri": "https://localhost:8080/"
        },
        "id": "mhgwxfpKLBWm",
        "outputId": "998c798e-b2d6-44b9-eddc-901169cd5d24"
      },
      "source": [
        "cars.groupby(['manufacturer','model','year'])['price'].transform(lambda x: x.mean())"
      ],
      "execution_count": null,
      "outputs": [
        {
          "output_type": "execute_result",
          "data": {
            "text/plain": [
              "0        24788.347826\n",
              "2        11054.388889\n",
              "3        22752.704545\n",
              "4        14499.000000\n",
              "5        22504.285714\n",
              "             ...     \n",
              "41843     3284.714286\n",
              "41844    27943.500000\n",
              "41845    10599.750000\n",
              "41846    17411.500000\n",
              "41847    17995.000000\n",
              "Name: price, Length: 32064, dtype: float64"
            ]
          },
          "metadata": {
            "tags": []
          },
          "execution_count": 31
        }
      ]
    },
    {
      "cell_type": "code",
      "metadata": {
        "colab": {
          "base_uri": "https://localhost:8080/"
        },
        "id": "PxHiB6oG6Tcp",
        "outputId": "8f0e3bb0-123e-4270-de23-2e74e812f415"
      },
      "source": [
        "cars.shape"
      ],
      "execution_count": null,
      "outputs": [
        {
          "output_type": "execute_result",
          "data": {
            "text/plain": [
              "(32064, 15)"
            ]
          },
          "metadata": {
            "tags": []
          },
          "execution_count": 32
        }
      ]
    },
    {
      "cell_type": "code",
      "metadata": {
        "colab": {
          "base_uri": "https://localhost:8080/",
          "height": 414
        },
        "id": "xGs7rlc-LPW1",
        "outputId": "dd41598e-fa23-4258-887d-b4da6607dff3"
      },
      "source": [
        "# Average Price per Manufacturer\n",
        "\n",
        "ave_price_make = cars[['price','manufacturer']].groupby('manufacturer').mean()\n",
        "\n",
        "plt.figure(figsize=(18,5))\n",
        "pr = sns.barplot(x=ave_price_make.index, y=\"price\", data=ave_price_make)\n",
        "var = pr.set_xticklabels(pr.get_xticklabels(), rotation=90)\n",
        "var = stat.set_xticklabels(stat.get_xticklabels(), rotation=90)"
      ],
      "execution_count": null,
      "outputs": [
        {
          "output_type": "display_data",
          "data": {
            "image/png": "[encoded data removed]",
            "text/plain": [
              "<Figure size 1296x360 with 1 Axes>"
            ]
          },
          "metadata": {
            "tags": []
          }
        }
      ]
    },
    {
      "cell_type": "markdown",
      "metadata": {
        "id": "UTea-yp556tg"
      },
      "source": [
        "#Categorical Feature Engineering:\n",
        "1. Encode according to significance initially"
      ]
    },
    {
      "cell_type": "markdown",
      "metadata": {
        "id": "y6LUOIZHUxxF"
      },
      "source": [
        "##Encoding:\n",
        "###1. Fuel, transmission, and title to binary: gas/!gas, automatic/!automatic, clean/!clean\n",
        "###2. Manufacturer needs to be given a numerical value.  So we will convert to a continuous value representing the average price of that manufacturer.\n",
        "###3. Model will likewise be converted to a numerical value representing the average price per manufacturer, per model, per corresponding year.  \n",
        "###4. The remaining categorical features will be encoded with dummies."
      ]
    },
    {
      "cell_type": "code",
      "metadata": {
        "colab": {
          "base_uri": "https://localhost:8080/",
          "height": 406
        },
        "id": "RwjUv1fekW2w",
        "outputId": "f2a09235-c611-4da6-cecc-af1d0c0988c8"
      },
      "source": [
        "# cars2 will become the transformed dataframe we will use for training and evaulating models.\n",
        "cars2 = cars.copy()\n",
        "\n",
        "# 1. Binary\n",
        "equiv_values2 = {\n",
        "                \"transmission\": {\"automatic\": 1, \"manual\":0, \"other\":0},\n",
        "                \"title_status\": {\"clean\": 1, \"salvage\":0, \"missing\":0, \"lien\":0, \"other\":0, \"rebuilt\":0, \"parts only\":0 },\n",
        "                \"fuel\":         {\"gas\": 1, \"hybrid\":0, \"diesel\":0, \"electric\":0, \"other\":0},\n",
        "}\n",
        "\n",
        "cars2 = cars2.replace(equiv_values2)\n",
        "\n",
        "cars2"
      ],
      "execution_count": null,
      "outputs": [
        {
          "output_type": "execute_result",
          "data": {
            "text/html": [
              "<div>\n",
              "<style scoped>\n",
              "    .dataframe tbody tr th:only-of-type {\n",
              "        vertical-align: middle;\n",
              "    }\n",
              "\n",
              "    .dataframe tbody tr th {\n",
              "        vertical-align: top;\n",
              "    }\n",
              "\n",
              "    .dataframe thead th {\n",
              "        text-align: right;\n",
              "    }\n",
              "</style>\n",
              "<table border=\"1\" class=\"dataframe\">\n",
              "  <thead>\n",
              "    <tr style=\"text-align: right;\">\n",
              "      <th></th>\n",
              "      <th>region</th>\n",
              "      <th>price</th>\n",
              "      <th>year</th>\n",
              "      <th>manufacturer</th>\n",
              "      <th>model</th>\n",
              "      <th>condition</th>\n",
              "      <th>cylinders</th>\n",
              "      <th>fuel</th>\n",
              "      <th>odometer</th>\n",
              "      <th>title_status</th>\n",
              "      <th>transmission</th>\n",
              "      <th>drive</th>\n",
              "      <th>type</th>\n",
              "      <th>paint_color</th>\n",
              "      <th>state</th>\n",
              "    </tr>\n",
              "  </thead>\n",
              "  <tbody>\n",
              "    <tr>\n",
              "      <th>0</th>\n",
              "      <td>yuba-sutter</td>\n",
              "      <td>25999</td>\n",
              "      <td>2007</td>\n",
              "      <td>chevrolet</td>\n",
              "      <td>corvette</td>\n",
              "      <td>excellent</td>\n",
              "      <td>8 cylinders</td>\n",
              "      <td>1</td>\n",
              "      <td>53846</td>\n",
              "      <td>1</td>\n",
              "      <td>0</td>\n",
              "      <td>rwd</td>\n",
              "      <td>coupe</td>\n",
              "      <td>black</td>\n",
              "      <td>ca</td>\n",
              "    </tr>\n",
              "    <tr>\n",
              "      <th>2</th>\n",
              "      <td>yuba-sutter</td>\n",
              "      <td>10999</td>\n",
              "      <td>2012</td>\n",
              "      <td>nissan</td>\n",
              "      <td>maxima</td>\n",
              "      <td>excellent</td>\n",
              "      <td>6 cylinders</td>\n",
              "      <td>1</td>\n",
              "      <td>98898</td>\n",
              "      <td>1</td>\n",
              "      <td>1</td>\n",
              "      <td>fwd</td>\n",
              "      <td>sedan</td>\n",
              "      <td>silver</td>\n",
              "      <td>ca</td>\n",
              "    </tr>\n",
              "    <tr>\n",
              "      <th>3</th>\n",
              "      <td>yuba-sutter</td>\n",
              "      <td>38500</td>\n",
              "      <td>2012</td>\n",
              "      <td>ford</td>\n",
              "      <td>f-150</td>\n",
              "      <td>excellent</td>\n",
              "      <td>8 cylinders</td>\n",
              "      <td>1</td>\n",
              "      <td>107020</td>\n",
              "      <td>1</td>\n",
              "      <td>1</td>\n",
              "      <td>4wd</td>\n",
              "      <td>pickup</td>\n",
              "      <td>black</td>\n",
              "      <td>ca</td>\n",
              "    </tr>\n",
              "    <tr>\n",
              "      <th>4</th>\n",
              "      <td>yuba-sutter</td>\n",
              "      <td>15999</td>\n",
              "      <td>2009</td>\n",
              "      <td>lexus</td>\n",
              "      <td>is 250</td>\n",
              "      <td>excellent</td>\n",
              "      <td>6 cylinders</td>\n",
              "      <td>1</td>\n",
              "      <td>45704</td>\n",
              "      <td>1</td>\n",
              "      <td>1</td>\n",
              "      <td>rwd</td>\n",
              "      <td>sedan</td>\n",
              "      <td>red</td>\n",
              "      <td>ca</td>\n",
              "    </tr>\n",
              "    <tr>\n",
              "      <th>5</th>\n",
              "      <td>yuba-sutter</td>\n",
              "      <td>22990</td>\n",
              "      <td>2015</td>\n",
              "      <td>chevrolet</td>\n",
              "      <td>silverado 1500 regular</td>\n",
              "      <td>good</td>\n",
              "      <td>6 cylinders</td>\n",
              "      <td>0</td>\n",
              "      <td>12411</td>\n",
              "      <td>1</td>\n",
              "      <td>1</td>\n",
              "      <td>other</td>\n",
              "      <td>pickup</td>\n",
              "      <td>red</td>\n",
              "      <td>ca</td>\n",
              "    </tr>\n",
              "    <tr>\n",
              "      <th>...</th>\n",
              "      <td>...</td>\n",
              "      <td>...</td>\n",
              "      <td>...</td>\n",
              "      <td>...</td>\n",
              "      <td>...</td>\n",
              "      <td>...</td>\n",
              "      <td>...</td>\n",
              "      <td>...</td>\n",
              "      <td>...</td>\n",
              "      <td>...</td>\n",
              "      <td>...</td>\n",
              "      <td>...</td>\n",
              "      <td>...</td>\n",
              "      <td>...</td>\n",
              "      <td>...</td>\n",
              "    </tr>\n",
              "    <tr>\n",
              "      <th>41843</th>\n",
              "      <td>SF bay area</td>\n",
              "      <td>2999</td>\n",
              "      <td>2000</td>\n",
              "      <td>honda</td>\n",
              "      <td>odyssey</td>\n",
              "      <td>excellent</td>\n",
              "      <td>6 cylinders</td>\n",
              "      <td>1</td>\n",
              "      <td>188301</td>\n",
              "      <td>1</td>\n",
              "      <td>1</td>\n",
              "      <td>fwd</td>\n",
              "      <td>mini-van</td>\n",
              "      <td>other</td>\n",
              "      <td>ca</td>\n",
              "    </tr>\n",
              "    <tr>\n",
              "      <th>41844</th>\n",
              "      <td>SF bay area</td>\n",
              "      <td>29987</td>\n",
              "      <td>2018</td>\n",
              "      <td>bmw</td>\n",
              "      <td>x2</td>\n",
              "      <td>other</td>\n",
              "      <td>4 cylinders</td>\n",
              "      <td>1</td>\n",
              "      <td>18409</td>\n",
              "      <td>1</td>\n",
              "      <td>1</td>\n",
              "      <td>4wd</td>\n",
              "      <td>SUV</td>\n",
              "      <td>black</td>\n",
              "      <td>ca</td>\n",
              "    </tr>\n",
              "    <tr>\n",
              "      <th>41845</th>\n",
              "      <td>SF bay area</td>\n",
              "      <td>5900</td>\n",
              "      <td>2000</td>\n",
              "      <td>toyota</td>\n",
              "      <td>tacoma</td>\n",
              "      <td>other</td>\n",
              "      <td>other</td>\n",
              "      <td>1</td>\n",
              "      <td>139000</td>\n",
              "      <td>1</td>\n",
              "      <td>0</td>\n",
              "      <td>rwd</td>\n",
              "      <td>other</td>\n",
              "      <td>other</td>\n",
              "      <td>ca</td>\n",
              "    </tr>\n",
              "    <tr>\n",
              "      <th>41846</th>\n",
              "      <td>SF bay area</td>\n",
              "      <td>16500</td>\n",
              "      <td>2016</td>\n",
              "      <td>honda</td>\n",
              "      <td>cr-v</td>\n",
              "      <td>other</td>\n",
              "      <td>other</td>\n",
              "      <td>1</td>\n",
              "      <td>57818</td>\n",
              "      <td>1</td>\n",
              "      <td>1</td>\n",
              "      <td>fwd</td>\n",
              "      <td>other</td>\n",
              "      <td>other</td>\n",
              "      <td>ca</td>\n",
              "    </tr>\n",
              "    <tr>\n",
              "      <th>41847</th>\n",
              "      <td>SF bay area</td>\n",
              "      <td>16000</td>\n",
              "      <td>2019</td>\n",
              "      <td>dodge</td>\n",
              "      <td>grand caravan gt</td>\n",
              "      <td>good</td>\n",
              "      <td>other</td>\n",
              "      <td>0</td>\n",
              "      <td>37882</td>\n",
              "      <td>1</td>\n",
              "      <td>1</td>\n",
              "      <td>fwd</td>\n",
              "      <td>van</td>\n",
              "      <td>other</td>\n",
              "      <td>ca</td>\n",
              "    </tr>\n",
              "  </tbody>\n",
              "</table>\n",
              "<p>32064 rows × 15 columns</p>\n",
              "</div>"
            ],
            "text/plain": [
              "            region  price  year manufacturer  ...  drive      type paint_color  state\n",
              "0      yuba-sutter  25999  2007    chevrolet  ...    rwd     coupe       black     ca\n",
              "2      yuba-sutter  10999  2012       nissan  ...    fwd     sedan      silver     ca\n",
              "3      yuba-sutter  38500  2012         ford  ...    4wd    pickup       black     ca\n",
              "4      yuba-sutter  15999  2009        lexus  ...    rwd     sedan         red     ca\n",
              "5      yuba-sutter  22990  2015    chevrolet  ...  other    pickup         red     ca\n",
              "...            ...    ...   ...          ...  ...    ...       ...         ...    ...\n",
              "41843  SF bay area   2999  2000        honda  ...    fwd  mini-van       other     ca\n",
              "41844  SF bay area  29987  2018          bmw  ...    4wd       SUV       black     ca\n",
              "41845  SF bay area   5900  2000       toyota  ...    rwd     other       other     ca\n",
              "41846  SF bay area  16500  2016        honda  ...    fwd     other       other     ca\n",
              "41847  SF bay area  16000  2019        dodge  ...    fwd       van       other     ca\n",
              "\n",
              "[32064 rows x 15 columns]"
            ]
          },
          "metadata": {
            "tags": []
          },
          "execution_count": 122
        }
      ]
    },
    {
      "cell_type": "markdown",
      "metadata": {
        "id": "oznVwUgTeRzS"
      },
      "source": [
        "## Investigate manufacturer and model averages:"
      ]
    },
    {
      "cell_type": "code",
      "metadata": {
        "colab": {
          "base_uri": "https://localhost:8080/",
          "height": 227
        },
        "id": "DgSQaUayhsnH",
        "outputId": "c1ec3e84-4ace-459f-ab02-333f44f7ca87"
      },
      "source": [
        "cars2[['manufacturer', 'price']].groupby('manufacturer').mean().head()"
      ],
      "execution_count": null,
      "outputs": [
        {
          "output_type": "execute_result",
          "data": {
            "text/html": [
              "<div>\n",
              "<style scoped>\n",
              "    .dataframe tbody tr th:only-of-type {\n",
              "        vertical-align: middle;\n",
              "    }\n",
              "\n",
              "    .dataframe tbody tr th {\n",
              "        vertical-align: top;\n",
              "    }\n",
              "\n",
              "    .dataframe thead th {\n",
              "        text-align: right;\n",
              "    }\n",
              "</style>\n",
              "<table border=\"1\" class=\"dataframe\">\n",
              "  <thead>\n",
              "    <tr style=\"text-align: right;\">\n",
              "      <th></th>\n",
              "      <th>price</th>\n",
              "    </tr>\n",
              "    <tr>\n",
              "      <th>manufacturer</th>\n",
              "      <th></th>\n",
              "    </tr>\n",
              "  </thead>\n",
              "  <tbody>\n",
              "    <tr>\n",
              "      <th>acura</th>\n",
              "      <td>15379.068796</td>\n",
              "    </tr>\n",
              "    <tr>\n",
              "      <th>alfa-romeo</th>\n",
              "      <td>27486.000000</td>\n",
              "    </tr>\n",
              "    <tr>\n",
              "      <th>aston-martin</th>\n",
              "      <td>29749.500000</td>\n",
              "    </tr>\n",
              "    <tr>\n",
              "      <th>audi</th>\n",
              "      <td>19681.377207</td>\n",
              "    </tr>\n",
              "    <tr>\n",
              "      <th>bmw</th>\n",
              "      <td>18262.485431</td>\n",
              "    </tr>\n",
              "  </tbody>\n",
              "</table>\n",
              "</div>"
            ],
            "text/plain": [
              "                     price\n",
              "manufacturer              \n",
              "acura         15379.068796\n",
              "alfa-romeo    27486.000000\n",
              "aston-martin  29749.500000\n",
              "audi          19681.377207\n",
              "bmw           18262.485431"
            ]
          },
          "metadata": {
            "tags": []
          },
          "execution_count": 35
        }
      ]
    },
    {
      "cell_type": "code",
      "metadata": {
        "colab": {
          "base_uri": "https://localhost:8080/"
        },
        "id": "gzz8UZf4LUF9",
        "outputId": "e1a8ced8-0ef4-4dfc-c6b2-9e651ea5f7c4"
      },
      "source": [
        "cars.groupby(['manufacturer','model','year'])['price'].transform(lambda x: x.mean())"
      ],
      "execution_count": null,
      "outputs": [
        {
          "output_type": "execute_result",
          "data": {
            "text/plain": [
              "0        24788.347826\n",
              "2        11054.388889\n",
              "3        22752.704545\n",
              "4        14499.000000\n",
              "5        22504.285714\n",
              "             ...     \n",
              "41843     3284.714286\n",
              "41844    27943.500000\n",
              "41845    10599.750000\n",
              "41846    17411.500000\n",
              "41847    17995.000000\n",
              "Name: price, Length: 32064, dtype: float64"
            ]
          },
          "metadata": {
            "tags": []
          },
          "execution_count": 36
        }
      ]
    },
    {
      "cell_type": "code",
      "metadata": {
        "id": "CSrzHGHYgSfk",
        "colab": {
          "base_uri": "https://localhost:8080/",
          "height": 137
        },
        "outputId": "40fc98c2-ade3-4836-9dc6-0500a356728f"
      },
      "source": [
        "# 2. Encoding avg_price_make\n",
        "cars2 = cars.copy()\n",
        "# Reset index for work around below:\n",
        "cars2.reset_index(drop=True, inplace=True)\n",
        "cars2['ave_price_make'] = cars.groupby(['manufacturer','year'])['price'].transform(lambda x: x.mean())\n",
        "\n",
        "cars2.head(3)"
      ],
      "execution_count": null,
      "outputs": [
        {
          "output_type": "execute_result",
          "data": {
            "text/html": [
              "<div>\n",
              "<style scoped>\n",
              "    .dataframe tbody tr th:only-of-type {\n",
              "        vertical-align: middle;\n",
              "    }\n",
              "\n",
              "    .dataframe tbody tr th {\n",
              "        vertical-align: top;\n",
              "    }\n",
              "\n",
              "    .dataframe thead th {\n",
              "        text-align: right;\n",
              "    }\n",
              "</style>\n",
              "<table border=\"1\" class=\"dataframe\">\n",
              "  <thead>\n",
              "    <tr style=\"text-align: right;\">\n",
              "      <th></th>\n",
              "      <th>region</th>\n",
              "      <th>price</th>\n",
              "      <th>year</th>\n",
              "      <th>manufacturer</th>\n",
              "      <th>model</th>\n",
              "      <th>condition</th>\n",
              "      <th>cylinders</th>\n",
              "      <th>fuel</th>\n",
              "      <th>odometer</th>\n",
              "      <th>title_status</th>\n",
              "      <th>transmission</th>\n",
              "      <th>drive</th>\n",
              "      <th>type</th>\n",
              "      <th>paint_color</th>\n",
              "      <th>state</th>\n",
              "      <th>ave_price_make</th>\n",
              "    </tr>\n",
              "  </thead>\n",
              "  <tbody>\n",
              "    <tr>\n",
              "      <th>0</th>\n",
              "      <td>yuba-sutter</td>\n",
              "      <td>25999</td>\n",
              "      <td>2007</td>\n",
              "      <td>chevrolet</td>\n",
              "      <td>corvette</td>\n",
              "      <td>excellent</td>\n",
              "      <td>8 cylinders</td>\n",
              "      <td>gas</td>\n",
              "      <td>53846</td>\n",
              "      <td>clean</td>\n",
              "      <td>manual</td>\n",
              "      <td>rwd</td>\n",
              "      <td>coupe</td>\n",
              "      <td>black</td>\n",
              "      <td>ca</td>\n",
              "      <td>15100.470968</td>\n",
              "    </tr>\n",
              "    <tr>\n",
              "      <th>1</th>\n",
              "      <td>yuba-sutter</td>\n",
              "      <td>10999</td>\n",
              "      <td>2012</td>\n",
              "      <td>nissan</td>\n",
              "      <td>maxima</td>\n",
              "      <td>excellent</td>\n",
              "      <td>6 cylinders</td>\n",
              "      <td>gas</td>\n",
              "      <td>98898</td>\n",
              "      <td>clean</td>\n",
              "      <td>automatic</td>\n",
              "      <td>fwd</td>\n",
              "      <td>sedan</td>\n",
              "      <td>silver</td>\n",
              "      <td>ca</td>\n",
              "      <td>NaN</td>\n",
              "    </tr>\n",
              "    <tr>\n",
              "      <th>2</th>\n",
              "      <td>yuba-sutter</td>\n",
              "      <td>38500</td>\n",
              "      <td>2012</td>\n",
              "      <td>ford</td>\n",
              "      <td>f-150</td>\n",
              "      <td>excellent</td>\n",
              "      <td>8 cylinders</td>\n",
              "      <td>gas</td>\n",
              "      <td>107020</td>\n",
              "      <td>clean</td>\n",
              "      <td>automatic</td>\n",
              "      <td>4wd</td>\n",
              "      <td>pickup</td>\n",
              "      <td>black</td>\n",
              "      <td>ca</td>\n",
              "      <td>10122.354545</td>\n",
              "    </tr>\n",
              "  </tbody>\n",
              "</table>\n",
              "</div>"
            ],
            "text/plain": [
              "        region  price  year  ... paint_color state ave_price_make\n",
              "0  yuba-sutter  25999  2007  ...       black    ca   15100.470968\n",
              "1  yuba-sutter  10999  2012  ...      silver    ca            NaN\n",
              "2  yuba-sutter  38500  2012  ...       black    ca   10122.354545\n",
              "\n",
              "[3 rows x 16 columns]"
            ]
          },
          "metadata": {
            "tags": []
          },
          "execution_count": 37
        }
      ]
    },
    {
      "cell_type": "code",
      "metadata": {
        "id": "cwgPwMIXiqUZ"
      },
      "source": [
        "cars2.reset_index(drop=True, inplace=True)"
      ],
      "execution_count": null,
      "outputs": []
    },
    {
      "cell_type": "markdown",
      "metadata": {
        "id": "RG5ppVVVfMVH"
      },
      "source": [
        "##Adding an average price per model (ave_price_model) to quantify significance of a particular vehicles attributes relative to it's year and asking price."
      ]
    },
    {
      "cell_type": "code",
      "metadata": {
        "colab": {
          "base_uri": "https://localhost:8080/",
          "height": 436
        },
        "id": "0MSWOZOZ2dEf",
        "outputId": "196870bd-d993-4432-a745-c308492a2ed7"
      },
      "source": [
        "#3. Encoding ave_price_model\n",
        "\n",
        "# Some initial investigation into accessing desired data:\n",
        "cars2[['manufacturer', 'price']].groupby('manufacturer').mean()\n",
        "apm = pd.DataFrame(cars2.groupby(['manufacturer', 'model', 'year']).price.mean())\n",
        "apm"
      ],
      "execution_count": null,
      "outputs": [
        {
          "output_type": "execute_result",
          "data": {
            "text/html": [
              "<div>\n",
              "<style scoped>\n",
              "    .dataframe tbody tr th:only-of-type {\n",
              "        vertical-align: middle;\n",
              "    }\n",
              "\n",
              "    .dataframe tbody tr th {\n",
              "        vertical-align: top;\n",
              "    }\n",
              "\n",
              "    .dataframe thead th {\n",
              "        text-align: right;\n",
              "    }\n",
              "</style>\n",
              "<table border=\"1\" class=\"dataframe\">\n",
              "  <thead>\n",
              "    <tr style=\"text-align: right;\">\n",
              "      <th></th>\n",
              "      <th></th>\n",
              "      <th></th>\n",
              "      <th>price</th>\n",
              "    </tr>\n",
              "    <tr>\n",
              "      <th>manufacturer</th>\n",
              "      <th>model</th>\n",
              "      <th>year</th>\n",
              "      <th></th>\n",
              "    </tr>\n",
              "  </thead>\n",
              "  <tbody>\n",
              "    <tr>\n",
              "      <th rowspan=\"5\" valign=\"top\">acura</th>\n",
              "      <th rowspan=\"2\" valign=\"top\">3.2 tl</th>\n",
              "      <th>2004</th>\n",
              "      <td>5999.0</td>\n",
              "    </tr>\n",
              "    <tr>\n",
              "      <th>2010</th>\n",
              "      <td>10995.0</td>\n",
              "    </tr>\n",
              "    <tr>\n",
              "      <th>ilk</th>\n",
              "      <th>2015</th>\n",
              "      <td>14000.0</td>\n",
              "    </tr>\n",
              "    <tr>\n",
              "      <th rowspan=\"2\" valign=\"top\">ilx</th>\n",
              "      <th>2013</th>\n",
              "      <td>13999.0</td>\n",
              "    </tr>\n",
              "    <tr>\n",
              "      <th>2014</th>\n",
              "      <td>14845.0</td>\n",
              "    </tr>\n",
              "    <tr>\n",
              "      <th>...</th>\n",
              "      <th>...</th>\n",
              "      <th>...</th>\n",
              "      <td>...</td>\n",
              "    </tr>\n",
              "    <tr>\n",
              "      <th rowspan=\"5\" valign=\"top\">volvo</th>\n",
              "      <th>xc90 awd t6</th>\n",
              "      <th>2004</th>\n",
              "      <td>6800.0</td>\n",
              "    </tr>\n",
              "    <tr>\n",
              "      <th rowspan=\"2\" valign=\"top\">xc90 t6 awd</th>\n",
              "      <th>2004</th>\n",
              "      <td>4800.0</td>\n",
              "    </tr>\n",
              "    <tr>\n",
              "      <th>2017</th>\n",
              "      <td>36900.0</td>\n",
              "    </tr>\n",
              "    <tr>\n",
              "      <th>xc90 t6 awd momentum</th>\n",
              "      <th>2018</th>\n",
              "      <td>37977.0</td>\n",
              "    </tr>\n",
              "    <tr>\n",
              "      <th>xc90 t6 miles 20,000 low</th>\n",
              "      <th>2018</th>\n",
              "      <td>37977.0</td>\n",
              "    </tr>\n",
              "  </tbody>\n",
              "</table>\n",
              "<p>10982 rows × 1 columns</p>\n",
              "</div>"
            ],
            "text/plain": [
              "                                              price\n",
              "manufacturer model                    year         \n",
              "acura        3.2 tl                   2004   5999.0\n",
              "                                      2010  10995.0\n",
              "             ilk                      2015  14000.0\n",
              "             ilx                      2013  13999.0\n",
              "                                      2014  14845.0\n",
              "...                                             ...\n",
              "volvo        xc90 awd t6              2004   6800.0\n",
              "             xc90 t6 awd              2004   4800.0\n",
              "                                      2017  36900.0\n",
              "             xc90 t6 awd momentum     2018  37977.0\n",
              "             xc90 t6 miles 20,000 low 2018  37977.0\n",
              "\n",
              "[10982 rows x 1 columns]"
            ]
          },
          "metadata": {
            "tags": []
          },
          "execution_count": 39
        }
      ]
    },
    {
      "cell_type": "code",
      "metadata": {
        "id": "K-8QJO6sBnF9"
      },
      "source": [
        "# Code to add 'ave_price_model' category to cars2:\n",
        "  \n",
        "cars2['ave_price_model']=cars2.groupby(['manufacturer','model','year'])['price'].transform(lambda x: x.mean())"
      ],
      "execution_count": null,
      "outputs": []
    },
    {
      "cell_type": "code",
      "metadata": {
        "colab": {
          "base_uri": "https://localhost:8080/",
          "height": 137
        },
        "id": "l5S8N9SbDWNi",
        "outputId": "003559df-cb91-4251-caf4-d6a6eb31a1e5"
      },
      "source": [
        "cars2.head(3)"
      ],
      "execution_count": null,
      "outputs": [
        {
          "output_type": "execute_result",
          "data": {
            "text/html": [
              "<div>\n",
              "<style scoped>\n",
              "    .dataframe tbody tr th:only-of-type {\n",
              "        vertical-align: middle;\n",
              "    }\n",
              "\n",
              "    .dataframe tbody tr th {\n",
              "        vertical-align: top;\n",
              "    }\n",
              "\n",
              "    .dataframe thead th {\n",
              "        text-align: right;\n",
              "    }\n",
              "</style>\n",
              "<table border=\"1\" class=\"dataframe\">\n",
              "  <thead>\n",
              "    <tr style=\"text-align: right;\">\n",
              "      <th></th>\n",
              "      <th>region</th>\n",
              "      <th>price</th>\n",
              "      <th>year</th>\n",
              "      <th>manufacturer</th>\n",
              "      <th>model</th>\n",
              "      <th>condition</th>\n",
              "      <th>cylinders</th>\n",
              "      <th>fuel</th>\n",
              "      <th>odometer</th>\n",
              "      <th>title_status</th>\n",
              "      <th>transmission</th>\n",
              "      <th>drive</th>\n",
              "      <th>type</th>\n",
              "      <th>paint_color</th>\n",
              "      <th>state</th>\n",
              "      <th>ave_price_make</th>\n",
              "      <th>ave_price_model</th>\n",
              "    </tr>\n",
              "  </thead>\n",
              "  <tbody>\n",
              "    <tr>\n",
              "      <th>0</th>\n",
              "      <td>yuba-sutter</td>\n",
              "      <td>25999</td>\n",
              "      <td>2007</td>\n",
              "      <td>chevrolet</td>\n",
              "      <td>corvette</td>\n",
              "      <td>excellent</td>\n",
              "      <td>8 cylinders</td>\n",
              "      <td>gas</td>\n",
              "      <td>53846</td>\n",
              "      <td>clean</td>\n",
              "      <td>manual</td>\n",
              "      <td>rwd</td>\n",
              "      <td>coupe</td>\n",
              "      <td>black</td>\n",
              "      <td>ca</td>\n",
              "      <td>15100.470968</td>\n",
              "      <td>24788.347826</td>\n",
              "    </tr>\n",
              "    <tr>\n",
              "      <th>1</th>\n",
              "      <td>yuba-sutter</td>\n",
              "      <td>10999</td>\n",
              "      <td>2012</td>\n",
              "      <td>nissan</td>\n",
              "      <td>maxima</td>\n",
              "      <td>excellent</td>\n",
              "      <td>6 cylinders</td>\n",
              "      <td>gas</td>\n",
              "      <td>98898</td>\n",
              "      <td>clean</td>\n",
              "      <td>automatic</td>\n",
              "      <td>fwd</td>\n",
              "      <td>sedan</td>\n",
              "      <td>silver</td>\n",
              "      <td>ca</td>\n",
              "      <td>NaN</td>\n",
              "      <td>11054.388889</td>\n",
              "    </tr>\n",
              "    <tr>\n",
              "      <th>2</th>\n",
              "      <td>yuba-sutter</td>\n",
              "      <td>38500</td>\n",
              "      <td>2012</td>\n",
              "      <td>ford</td>\n",
              "      <td>f-150</td>\n",
              "      <td>excellent</td>\n",
              "      <td>8 cylinders</td>\n",
              "      <td>gas</td>\n",
              "      <td>107020</td>\n",
              "      <td>clean</td>\n",
              "      <td>automatic</td>\n",
              "      <td>4wd</td>\n",
              "      <td>pickup</td>\n",
              "      <td>black</td>\n",
              "      <td>ca</td>\n",
              "      <td>10122.354545</td>\n",
              "      <td>22752.704545</td>\n",
              "    </tr>\n",
              "  </tbody>\n",
              "</table>\n",
              "</div>"
            ],
            "text/plain": [
              "        region  price  year  ... state ave_price_make ave_price_model\n",
              "0  yuba-sutter  25999  2007  ...    ca   15100.470968    24788.347826\n",
              "1  yuba-sutter  10999  2012  ...    ca            NaN    11054.388889\n",
              "2  yuba-sutter  38500  2012  ...    ca   10122.354545    22752.704545\n",
              "\n",
              "[3 rows x 17 columns]"
            ]
          },
          "metadata": {
            "tags": []
          },
          "execution_count": 41
        }
      ]
    },
    {
      "cell_type": "code",
      "metadata": {
        "colab": {
          "base_uri": "https://localhost:8080/",
          "height": 443
        },
        "id": "PnSgWvEITgwe",
        "outputId": "39f642ae-feeb-4cad-88f8-74f619f82c5f"
      },
      "source": [
        "#4. Encoding dummies\n",
        "\n",
        "df_encoded = cars2.copy()\n",
        "\n",
        "# Encode character string categorical data into numeric data using one-hot encoding\n",
        "df_encoded = pd.concat([cars2, pd.get_dummies(cars2[\"condition\"], drop_first=True)], axis=1)\n",
        "df_encoded = pd.concat([df_encoded, pd.get_dummies(cars2[\"cylinders\"], drop_first=True)], axis=1)\n",
        "df_encoded = pd.concat([df_encoded, pd.get_dummies(cars2[\"drive\"], drop_first=True)], axis=1)\n",
        "df_encoded = pd.concat([df_encoded, pd.get_dummies(cars2[\"type\"], drop_first=True)], axis=1)\n",
        "df_encoded = pd.concat([df_encoded, pd.get_dummies(cars2[\"paint_color\"], drop_first=True)], axis=1)\n",
        "df_encoded = pd.concat([df_encoded, pd.get_dummies(cars2[\"title_status\"], drop_first=True)], axis=1)\n",
        "df_encoded = pd.concat([df_encoded, pd.get_dummies(cars2[\"fuel\"], drop_first=True)], axis=1)\n",
        "df_encoded = pd.concat([df_encoded, pd.get_dummies(cars2[\"transmission\"], drop_first=True)], axis=1)\n",
        "\n",
        "df_encoded.drop(['region','state', 'manufacturer','model', 'condition', 'cylinders','drive', 'type', 'paint_color'], axis = 1, inplace = True)\n",
        "df_encoded"
      ],
      "execution_count": null,
      "outputs": [
        {
          "output_type": "execute_result",
          "data": {
            "text/html": [
              "<div>\n",
              "<style scoped>\n",
              "    .dataframe tbody tr th:only-of-type {\n",
              "        vertical-align: middle;\n",
              "    }\n",
              "\n",
              "    .dataframe tbody tr th {\n",
              "        vertical-align: top;\n",
              "    }\n",
              "\n",
              "    .dataframe thead th {\n",
              "        text-align: right;\n",
              "    }\n",
              "</style>\n",
              "<table border=\"1\" class=\"dataframe\">\n",
              "  <thead>\n",
              "    <tr style=\"text-align: right;\">\n",
              "      <th></th>\n",
              "      <th>price</th>\n",
              "      <th>year</th>\n",
              "      <th>fuel</th>\n",
              "      <th>odometer</th>\n",
              "      <th>title_status</th>\n",
              "      <th>transmission</th>\n",
              "      <th>ave_price_make</th>\n",
              "      <th>ave_price_model</th>\n",
              "      <th>fair</th>\n",
              "      <th>good</th>\n",
              "      <th>like new</th>\n",
              "      <th>new</th>\n",
              "      <th>other</th>\n",
              "      <th>salvage</th>\n",
              "      <th>12 cylinders</th>\n",
              "      <th>3 cylinders</th>\n",
              "      <th>4 cylinders</th>\n",
              "      <th>5 cylinders</th>\n",
              "      <th>6 cylinders</th>\n",
              "      <th>8 cylinders</th>\n",
              "      <th>other</th>\n",
              "      <th>fwd</th>\n",
              "      <th>other</th>\n",
              "      <th>rwd</th>\n",
              "      <th>bus</th>\n",
              "      <th>convertible</th>\n",
              "      <th>coupe</th>\n",
              "      <th>hatchback</th>\n",
              "      <th>mini-van</th>\n",
              "      <th>offroad</th>\n",
              "      <th>other</th>\n",
              "      <th>pickup</th>\n",
              "      <th>sedan</th>\n",
              "      <th>truck</th>\n",
              "      <th>van</th>\n",
              "      <th>wagon</th>\n",
              "      <th>blue</th>\n",
              "      <th>brown</th>\n",
              "      <th>custom</th>\n",
              "      <th>green</th>\n",
              "      <th>grey</th>\n",
              "      <th>orange</th>\n",
              "      <th>other</th>\n",
              "      <th>purple</th>\n",
              "      <th>red</th>\n",
              "      <th>silver</th>\n",
              "      <th>white</th>\n",
              "      <th>yellow</th>\n",
              "      <th>1</th>\n",
              "      <th>1</th>\n",
              "      <th>1</th>\n",
              "    </tr>\n",
              "  </thead>\n",
              "  <tbody>\n",
              "    <tr>\n",
              "      <th>0</th>\n",
              "      <td>25999</td>\n",
              "      <td>2007</td>\n",
              "      <td>1</td>\n",
              "      <td>53846</td>\n",
              "      <td>1</td>\n",
              "      <td>0</td>\n",
              "      <td>18260.884</td>\n",
              "      <td>24788.348</td>\n",
              "      <td>0</td>\n",
              "      <td>0</td>\n",
              "      <td>0</td>\n",
              "      <td>0</td>\n",
              "      <td>0</td>\n",
              "      <td>0</td>\n",
              "      <td>0</td>\n",
              "      <td>0</td>\n",
              "      <td>0</td>\n",
              "      <td>0</td>\n",
              "      <td>0</td>\n",
              "      <td>1</td>\n",
              "      <td>0</td>\n",
              "      <td>0</td>\n",
              "      <td>0</td>\n",
              "      <td>1</td>\n",
              "      <td>0</td>\n",
              "      <td>0</td>\n",
              "      <td>1</td>\n",
              "      <td>0</td>\n",
              "      <td>0</td>\n",
              "      <td>0</td>\n",
              "      <td>0</td>\n",
              "      <td>0</td>\n",
              "      <td>0</td>\n",
              "      <td>0</td>\n",
              "      <td>0</td>\n",
              "      <td>0</td>\n",
              "      <td>0</td>\n",
              "      <td>0</td>\n",
              "      <td>0</td>\n",
              "      <td>0</td>\n",
              "      <td>0</td>\n",
              "      <td>0</td>\n",
              "      <td>0</td>\n",
              "      <td>0</td>\n",
              "      <td>0</td>\n",
              "      <td>0</td>\n",
              "      <td>0</td>\n",
              "      <td>0</td>\n",
              "      <td>1</td>\n",
              "      <td>1</td>\n",
              "      <td>0</td>\n",
              "    </tr>\n",
              "    <tr>\n",
              "      <th>1</th>\n",
              "      <td>10999</td>\n",
              "      <td>2012</td>\n",
              "      <td>1</td>\n",
              "      <td>98898</td>\n",
              "      <td>1</td>\n",
              "      <td>1</td>\n",
              "      <td>11983.339</td>\n",
              "      <td>11054.389</td>\n",
              "      <td>0</td>\n",
              "      <td>0</td>\n",
              "      <td>0</td>\n",
              "      <td>0</td>\n",
              "      <td>0</td>\n",
              "      <td>0</td>\n",
              "      <td>0</td>\n",
              "      <td>0</td>\n",
              "      <td>0</td>\n",
              "      <td>0</td>\n",
              "      <td>1</td>\n",
              "      <td>0</td>\n",
              "      <td>0</td>\n",
              "      <td>1</td>\n",
              "      <td>0</td>\n",
              "      <td>0</td>\n",
              "      <td>0</td>\n",
              "      <td>0</td>\n",
              "      <td>0</td>\n",
              "      <td>0</td>\n",
              "      <td>0</td>\n",
              "      <td>0</td>\n",
              "      <td>0</td>\n",
              "      <td>0</td>\n",
              "      <td>1</td>\n",
              "      <td>0</td>\n",
              "      <td>0</td>\n",
              "      <td>0</td>\n",
              "      <td>0</td>\n",
              "      <td>0</td>\n",
              "      <td>0</td>\n",
              "      <td>0</td>\n",
              "      <td>0</td>\n",
              "      <td>0</td>\n",
              "      <td>0</td>\n",
              "      <td>0</td>\n",
              "      <td>0</td>\n",
              "      <td>1</td>\n",
              "      <td>0</td>\n",
              "      <td>0</td>\n",
              "      <td>1</td>\n",
              "      <td>1</td>\n",
              "      <td>1</td>\n",
              "    </tr>\n",
              "    <tr>\n",
              "      <th>2</th>\n",
              "      <td>38500</td>\n",
              "      <td>2012</td>\n",
              "      <td>1</td>\n",
              "      <td>107020</td>\n",
              "      <td>1</td>\n",
              "      <td>1</td>\n",
              "      <td>17108.486</td>\n",
              "      <td>22752.705</td>\n",
              "      <td>0</td>\n",
              "      <td>0</td>\n",
              "      <td>0</td>\n",
              "      <td>0</td>\n",
              "      <td>0</td>\n",
              "      <td>0</td>\n",
              "      <td>0</td>\n",
              "      <td>0</td>\n",
              "      <td>0</td>\n",
              "      <td>0</td>\n",
              "      <td>0</td>\n",
              "      <td>1</td>\n",
              "      <td>0</td>\n",
              "      <td>0</td>\n",
              "      <td>0</td>\n",
              "      <td>0</td>\n",
              "      <td>0</td>\n",
              "      <td>0</td>\n",
              "      <td>0</td>\n",
              "      <td>0</td>\n",
              "      <td>0</td>\n",
              "      <td>0</td>\n",
              "      <td>0</td>\n",
              "      <td>1</td>\n",
              "      <td>0</td>\n",
              "      <td>0</td>\n",
              "      <td>0</td>\n",
              "      <td>0</td>\n",
              "      <td>0</td>\n",
              "      <td>0</td>\n",
              "      <td>0</td>\n",
              "      <td>0</td>\n",
              "      <td>0</td>\n",
              "      <td>0</td>\n",
              "      <td>0</td>\n",
              "      <td>0</td>\n",
              "      <td>0</td>\n",
              "      <td>0</td>\n",
              "      <td>0</td>\n",
              "      <td>0</td>\n",
              "      <td>1</td>\n",
              "      <td>1</td>\n",
              "      <td>1</td>\n",
              "    </tr>\n",
              "    <tr>\n",
              "      <th>3</th>\n",
              "      <td>15999</td>\n",
              "      <td>2009</td>\n",
              "      <td>1</td>\n",
              "      <td>45704</td>\n",
              "      <td>1</td>\n",
              "      <td>1</td>\n",
              "      <td>18391.351</td>\n",
              "      <td>14499.000</td>\n",
              "      <td>0</td>\n",
              "      <td>0</td>\n",
              "      <td>0</td>\n",
              "      <td>0</td>\n",
              "      <td>0</td>\n",
              "      <td>0</td>\n",
              "      <td>0</td>\n",
              "      <td>0</td>\n",
              "      <td>0</td>\n",
              "      <td>0</td>\n",
              "      <td>1</td>\n",
              "      <td>0</td>\n",
              "      <td>0</td>\n",
              "      <td>0</td>\n",
              "      <td>0</td>\n",
              "      <td>1</td>\n",
              "      <td>0</td>\n",
              "      <td>0</td>\n",
              "      <td>0</td>\n",
              "      <td>0</td>\n",
              "      <td>0</td>\n",
              "      <td>0</td>\n",
              "      <td>0</td>\n",
              "      <td>0</td>\n",
              "      <td>1</td>\n",
              "      <td>0</td>\n",
              "      <td>0</td>\n",
              "      <td>0</td>\n",
              "      <td>0</td>\n",
              "      <td>0</td>\n",
              "      <td>0</td>\n",
              "      <td>0</td>\n",
              "      <td>0</td>\n",
              "      <td>0</td>\n",
              "      <td>0</td>\n",
              "      <td>0</td>\n",
              "      <td>1</td>\n",
              "      <td>0</td>\n",
              "      <td>0</td>\n",
              "      <td>0</td>\n",
              "      <td>1</td>\n",
              "      <td>1</td>\n",
              "      <td>1</td>\n",
              "    </tr>\n",
              "    <tr>\n",
              "      <th>4</th>\n",
              "      <td>22990</td>\n",
              "      <td>2015</td>\n",
              "      <td>0</td>\n",
              "      <td>12411</td>\n",
              "      <td>1</td>\n",
              "      <td>1</td>\n",
              "      <td>18260.884</td>\n",
              "      <td>22504.286</td>\n",
              "      <td>0</td>\n",
              "      <td>1</td>\n",
              "      <td>0</td>\n",
              "      <td>0</td>\n",
              "      <td>0</td>\n",
              "      <td>0</td>\n",
              "      <td>0</td>\n",
              "      <td>0</td>\n",
              "      <td>0</td>\n",
              "      <td>0</td>\n",
              "      <td>1</td>\n",
              "      <td>0</td>\n",
              "      <td>0</td>\n",
              "      <td>0</td>\n",
              "      <td>1</td>\n",
              "      <td>0</td>\n",
              "      <td>0</td>\n",
              "      <td>0</td>\n",
              "      <td>0</td>\n",
              "      <td>0</td>\n",
              "      <td>0</td>\n",
              "      <td>0</td>\n",
              "      <td>0</td>\n",
              "      <td>1</td>\n",
              "      <td>0</td>\n",
              "      <td>0</td>\n",
              "      <td>0</td>\n",
              "      <td>0</td>\n",
              "      <td>0</td>\n",
              "      <td>0</td>\n",
              "      <td>0</td>\n",
              "      <td>0</td>\n",
              "      <td>0</td>\n",
              "      <td>0</td>\n",
              "      <td>0</td>\n",
              "      <td>0</td>\n",
              "      <td>1</td>\n",
              "      <td>0</td>\n",
              "      <td>0</td>\n",
              "      <td>0</td>\n",
              "      <td>1</td>\n",
              "      <td>0</td>\n",
              "      <td>1</td>\n",
              "    </tr>\n",
              "    <tr>\n",
              "      <th>...</th>\n",
              "      <td>...</td>\n",
              "      <td>...</td>\n",
              "      <td>...</td>\n",
              "      <td>...</td>\n",
              "      <td>...</td>\n",
              "      <td>...</td>\n",
              "      <td>...</td>\n",
              "      <td>...</td>\n",
              "      <td>...</td>\n",
              "      <td>...</td>\n",
              "      <td>...</td>\n",
              "      <td>...</td>\n",
              "      <td>...</td>\n",
              "      <td>...</td>\n",
              "      <td>...</td>\n",
              "      <td>...</td>\n",
              "      <td>...</td>\n",
              "      <td>...</td>\n",
              "      <td>...</td>\n",
              "      <td>...</td>\n",
              "      <td>...</td>\n",
              "      <td>...</td>\n",
              "      <td>...</td>\n",
              "      <td>...</td>\n",
              "      <td>...</td>\n",
              "      <td>...</td>\n",
              "      <td>...</td>\n",
              "      <td>...</td>\n",
              "      <td>...</td>\n",
              "      <td>...</td>\n",
              "      <td>...</td>\n",
              "      <td>...</td>\n",
              "      <td>...</td>\n",
              "      <td>...</td>\n",
              "      <td>...</td>\n",
              "      <td>...</td>\n",
              "      <td>...</td>\n",
              "      <td>...</td>\n",
              "      <td>...</td>\n",
              "      <td>...</td>\n",
              "      <td>...</td>\n",
              "      <td>...</td>\n",
              "      <td>...</td>\n",
              "      <td>...</td>\n",
              "      <td>...</td>\n",
              "      <td>...</td>\n",
              "      <td>...</td>\n",
              "      <td>...</td>\n",
              "      <td>...</td>\n",
              "      <td>...</td>\n",
              "      <td>...</td>\n",
              "    </tr>\n",
              "    <tr>\n",
              "      <th>32059</th>\n",
              "      <td>2999</td>\n",
              "      <td>2000</td>\n",
              "      <td>1</td>\n",
              "      <td>188301</td>\n",
              "      <td>1</td>\n",
              "      <td>1</td>\n",
              "      <td>12099.964</td>\n",
              "      <td>3284.714</td>\n",
              "      <td>0</td>\n",
              "      <td>0</td>\n",
              "      <td>0</td>\n",
              "      <td>0</td>\n",
              "      <td>0</td>\n",
              "      <td>0</td>\n",
              "      <td>0</td>\n",
              "      <td>0</td>\n",
              "      <td>0</td>\n",
              "      <td>0</td>\n",
              "      <td>1</td>\n",
              "      <td>0</td>\n",
              "      <td>0</td>\n",
              "      <td>1</td>\n",
              "      <td>0</td>\n",
              "      <td>0</td>\n",
              "      <td>0</td>\n",
              "      <td>0</td>\n",
              "      <td>0</td>\n",
              "      <td>0</td>\n",
              "      <td>1</td>\n",
              "      <td>0</td>\n",
              "      <td>0</td>\n",
              "      <td>0</td>\n",
              "      <td>0</td>\n",
              "      <td>0</td>\n",
              "      <td>0</td>\n",
              "      <td>0</td>\n",
              "      <td>0</td>\n",
              "      <td>0</td>\n",
              "      <td>0</td>\n",
              "      <td>0</td>\n",
              "      <td>0</td>\n",
              "      <td>0</td>\n",
              "      <td>1</td>\n",
              "      <td>0</td>\n",
              "      <td>0</td>\n",
              "      <td>0</td>\n",
              "      <td>0</td>\n",
              "      <td>0</td>\n",
              "      <td>1</td>\n",
              "      <td>1</td>\n",
              "      <td>1</td>\n",
              "    </tr>\n",
              "    <tr>\n",
              "      <th>32060</th>\n",
              "      <td>29987</td>\n",
              "      <td>2018</td>\n",
              "      <td>1</td>\n",
              "      <td>18409</td>\n",
              "      <td>1</td>\n",
              "      <td>1</td>\n",
              "      <td>18262.485</td>\n",
              "      <td>27943.500</td>\n",
              "      <td>0</td>\n",
              "      <td>0</td>\n",
              "      <td>0</td>\n",
              "      <td>0</td>\n",
              "      <td>1</td>\n",
              "      <td>0</td>\n",
              "      <td>0</td>\n",
              "      <td>0</td>\n",
              "      <td>1</td>\n",
              "      <td>0</td>\n",
              "      <td>0</td>\n",
              "      <td>0</td>\n",
              "      <td>0</td>\n",
              "      <td>0</td>\n",
              "      <td>0</td>\n",
              "      <td>0</td>\n",
              "      <td>0</td>\n",
              "      <td>0</td>\n",
              "      <td>0</td>\n",
              "      <td>0</td>\n",
              "      <td>0</td>\n",
              "      <td>0</td>\n",
              "      <td>0</td>\n",
              "      <td>0</td>\n",
              "      <td>0</td>\n",
              "      <td>0</td>\n",
              "      <td>0</td>\n",
              "      <td>0</td>\n",
              "      <td>0</td>\n",
              "      <td>0</td>\n",
              "      <td>0</td>\n",
              "      <td>0</td>\n",
              "      <td>0</td>\n",
              "      <td>0</td>\n",
              "      <td>0</td>\n",
              "      <td>0</td>\n",
              "      <td>0</td>\n",
              "      <td>0</td>\n",
              "      <td>0</td>\n",
              "      <td>0</td>\n",
              "      <td>1</td>\n",
              "      <td>1</td>\n",
              "      <td>1</td>\n",
              "    </tr>\n",
              "    <tr>\n",
              "      <th>32061</th>\n",
              "      <td>5900</td>\n",
              "      <td>2000</td>\n",
              "      <td>1</td>\n",
              "      <td>139000</td>\n",
              "      <td>1</td>\n",
              "      <td>0</td>\n",
              "      <td>15911.560</td>\n",
              "      <td>10599.750</td>\n",
              "      <td>0</td>\n",
              "      <td>0</td>\n",
              "      <td>0</td>\n",
              "      <td>0</td>\n",
              "      <td>1</td>\n",
              "      <td>0</td>\n",
              "      <td>0</td>\n",
              "      <td>0</td>\n",
              "      <td>0</td>\n",
              "      <td>0</td>\n",
              "      <td>0</td>\n",
              "      <td>0</td>\n",
              "      <td>1</td>\n",
              "      <td>0</td>\n",
              "      <td>0</td>\n",
              "      <td>1</td>\n",
              "      <td>0</td>\n",
              "      <td>0</td>\n",
              "      <td>0</td>\n",
              "      <td>0</td>\n",
              "      <td>0</td>\n",
              "      <td>0</td>\n",
              "      <td>1</td>\n",
              "      <td>0</td>\n",
              "      <td>0</td>\n",
              "      <td>0</td>\n",
              "      <td>0</td>\n",
              "      <td>0</td>\n",
              "      <td>0</td>\n",
              "      <td>0</td>\n",
              "      <td>0</td>\n",
              "      <td>0</td>\n",
              "      <td>0</td>\n",
              "      <td>0</td>\n",
              "      <td>1</td>\n",
              "      <td>0</td>\n",
              "      <td>0</td>\n",
              "      <td>0</td>\n",
              "      <td>0</td>\n",
              "      <td>0</td>\n",
              "      <td>1</td>\n",
              "      <td>1</td>\n",
              "      <td>0</td>\n",
              "    </tr>\n",
              "    <tr>\n",
              "      <th>32062</th>\n",
              "      <td>16500</td>\n",
              "      <td>2016</td>\n",
              "      <td>1</td>\n",
              "      <td>57818</td>\n",
              "      <td>1</td>\n",
              "      <td>1</td>\n",
              "      <td>12099.964</td>\n",
              "      <td>17411.500</td>\n",
              "      <td>0</td>\n",
              "      <td>0</td>\n",
              "      <td>0</td>\n",
              "      <td>0</td>\n",
              "      <td>1</td>\n",
              "      <td>0</td>\n",
              "      <td>0</td>\n",
              "      <td>0</td>\n",
              "      <td>0</td>\n",
              "      <td>0</td>\n",
              "      <td>0</td>\n",
              "      <td>0</td>\n",
              "      <td>1</td>\n",
              "      <td>1</td>\n",
              "      <td>0</td>\n",
              "      <td>0</td>\n",
              "      <td>0</td>\n",
              "      <td>0</td>\n",
              "      <td>0</td>\n",
              "      <td>0</td>\n",
              "      <td>0</td>\n",
              "      <td>0</td>\n",
              "      <td>1</td>\n",
              "      <td>0</td>\n",
              "      <td>0</td>\n",
              "      <td>0</td>\n",
              "      <td>0</td>\n",
              "      <td>0</td>\n",
              "      <td>0</td>\n",
              "      <td>0</td>\n",
              "      <td>0</td>\n",
              "      <td>0</td>\n",
              "      <td>0</td>\n",
              "      <td>0</td>\n",
              "      <td>1</td>\n",
              "      <td>0</td>\n",
              "      <td>0</td>\n",
              "      <td>0</td>\n",
              "      <td>0</td>\n",
              "      <td>0</td>\n",
              "      <td>1</td>\n",
              "      <td>1</td>\n",
              "      <td>1</td>\n",
              "    </tr>\n",
              "    <tr>\n",
              "      <th>32063</th>\n",
              "      <td>16000</td>\n",
              "      <td>2019</td>\n",
              "      <td>0</td>\n",
              "      <td>37882</td>\n",
              "      <td>1</td>\n",
              "      <td>1</td>\n",
              "      <td>14721.950</td>\n",
              "      <td>17995.000</td>\n",
              "      <td>0</td>\n",
              "      <td>1</td>\n",
              "      <td>0</td>\n",
              "      <td>0</td>\n",
              "      <td>0</td>\n",
              "      <td>0</td>\n",
              "      <td>0</td>\n",
              "      <td>0</td>\n",
              "      <td>0</td>\n",
              "      <td>0</td>\n",
              "      <td>0</td>\n",
              "      <td>0</td>\n",
              "      <td>1</td>\n",
              "      <td>1</td>\n",
              "      <td>0</td>\n",
              "      <td>0</td>\n",
              "      <td>0</td>\n",
              "      <td>0</td>\n",
              "      <td>0</td>\n",
              "      <td>0</td>\n",
              "      <td>0</td>\n",
              "      <td>0</td>\n",
              "      <td>0</td>\n",
              "      <td>0</td>\n",
              "      <td>0</td>\n",
              "      <td>0</td>\n",
              "      <td>1</td>\n",
              "      <td>0</td>\n",
              "      <td>0</td>\n",
              "      <td>0</td>\n",
              "      <td>0</td>\n",
              "      <td>0</td>\n",
              "      <td>0</td>\n",
              "      <td>0</td>\n",
              "      <td>1</td>\n",
              "      <td>0</td>\n",
              "      <td>0</td>\n",
              "      <td>0</td>\n",
              "      <td>0</td>\n",
              "      <td>0</td>\n",
              "      <td>1</td>\n",
              "      <td>0</td>\n",
              "      <td>1</td>\n",
              "    </tr>\n",
              "  </tbody>\n",
              "</table>\n",
              "<p>32064 rows × 51 columns</p>\n",
              "</div>"
            ],
            "text/plain": [
              "       price  year  fuel  odometer  title_status  ...  white  yellow  1  1  1\n",
              "0      25999  2007     1     53846             1  ...      0       0  1  1  0\n",
              "1      10999  2012     1     98898             1  ...      0       0  1  1  1\n",
              "2      38500  2012     1    107020             1  ...      0       0  1  1  1\n",
              "3      15999  2009     1     45704             1  ...      0       0  1  1  1\n",
              "4      22990  2015     0     12411             1  ...      0       0  1  0  1\n",
              "...      ...   ...   ...       ...           ...  ...    ...     ... .. .. ..\n",
              "32059   2999  2000     1    188301             1  ...      0       0  1  1  1\n",
              "32060  29987  2018     1     18409             1  ...      0       0  1  1  1\n",
              "32061   5900  2000     1    139000             1  ...      0       0  1  1  0\n",
              "32062  16500  2016     1     57818             1  ...      0       0  1  1  1\n",
              "32063  16000  2019     0     37882             1  ...      0       0  1  0  1\n",
              "\n",
              "[32064 rows x 51 columns]"
            ]
          },
          "metadata": {
            "tags": []
          },
          "execution_count": 129
        }
      ]
    },
    {
      "cell_type": "markdown",
      "metadata": {
        "id": "1N-PmOhfltPU"
      },
      "source": [
        "# Feature Engineering is completed.  Time to test and evaluate differing models."
      ]
    },
    {
      "cell_type": "code",
      "metadata": {
        "id": "5JrKc9ZdTg0T",
        "colab": {
          "base_uri": "https://localhost:8080/"
        },
        "outputId": "d5f4a094-0fcd-4904-e17a-1f561af7c586"
      },
      "source": [
        "from sklearn.linear_model import LinearRegression\n",
        "from sklearn.model_selection import train_test_split\n",
        "from sklearn.metrics import mean_absolute_error\n",
        "import statsmodels.api as sm\n",
        "from statsmodels.tools.eval_measures import mse, rmse\n",
        "\n",
        "pd.options.display.float_format = '{:.3f}'.format\n",
        "\n",
        "# Establish the Target\n",
        "Y = cars2['price']\n",
        " \n",
        "# Set the Features\n",
        "X = df_encoded.drop(columns = ['price'], axis=1)\n",
        "\n",
        "X_train, X_test, y_train, y_test = train_test_split(X, Y, test_size = 0.2, random_state = 465)\n",
        "\n",
        "print(\"The number of observations in training set is {}\".format(X_train.shape[0]))\n",
        "print(\"The number of observations in test set is {}\".format(X_test.shape[0]))"
      ],
      "execution_count": null,
      "outputs": [
        {
          "output_type": "stream",
          "text": [
            "The number of observations in training set is 25651\n",
            "The number of observations in test set is 6413\n"
          ],
          "name": "stdout"
        }
      ]
    },
    {
      "cell_type": "markdown",
      "metadata": {
        "id": "3gSWFvSMIftD"
      },
      "source": [
        "##Linearity Visual:"
      ]
    },
    {
      "cell_type": "code",
      "metadata": {
        "id": "0GYh1Y961jpD",
        "colab": {
          "base_uri": "https://localhost:8080/",
          "height": 301
        },
        "outputId": "95c4ed9c-5386-47f3-fdb4-195039f14fba"
      },
      "source": [
        "#OLS for graphing true and predicted values:\n",
        "\n",
        "X_train = sm.add_constant(X_train)\n",
        "results = sm.OLS(y_train, X_train).fit()\n",
        "X_test = sm.add_constant(X_test)\n",
        "y_preds = results.predict(X_test)\n",
        "\n",
        "plt.scatter(y_test, y_preds)\n",
        "plt.plot(y_test, y_test, color=\"red\")\n",
        "plt.xlabel(\"true values\")\n",
        "plt.ylabel(\"predicted values\")\n",
        "plt.title(\"Charges: true and predicted values\")\n",
        "plt.show()"
      ],
      "execution_count": null,
      "outputs": [
        {
          "output_type": "display_data",
          "data": {
            "image/png": "[encoded data removed]",
            "text/plain": [
              "<Figure size 432x288 with 1 Axes>"
            ]
          },
          "metadata": {
            "tags": []
          }
        }
      ]
    },
    {
      "cell_type": "markdown",
      "metadata": {
        "id": "cV_jirWBKtg8"
      },
      "source": [
        "###Helper methods for Metrics and Cross-Validation:"
      ]
    },
    {
      "cell_type": "code",
      "metadata": {
        "id": "B-tdsrepWCCE"
      },
      "source": [
        "def eval_metrics(y_test, y_preds_test):\n",
        "  print(\"\\nMAE: Mean absolute error of the prediction is:\\t\\t\\t{}\".format(mean_absolute_error(y_test, y_preds_test)))\n",
        "  print(\"MSE: Mean squared error of the prediction is:\\t\\t\\t{}\".format(mse(y_test, y_preds_test)))\n",
        "  print(\"RMSE: Root mean squared error of the prediction is:\\t\\t{}\".format(rmse(y_test, y_preds_test)))\n",
        "  print(\"MAPE: Mean absolute percentage error of the prediction is:\\t{}\".format(np.mean(np.abs((y_test - y_preds_test) / y_test)) * 100))"
      ],
      "execution_count": null,
      "outputs": []
    },
    {
      "cell_type": "code",
      "metadata": {
        "id": "Uoe0j1ucrMmB"
      },
      "source": [
        "def test_results(model):\n",
        "  print(\"Cross-validation - 5 fold : \", cross_val_score(model, X, Y, cv=5))\n",
        "  print(\"\\nR-squared of the model in training set is:\\t\\t{}\".format(model.score(X_train, y_train)))\n",
        "  print()\n",
        "  print(\"-----Test set statistics-----\")\n",
        "  print(\"R-squared of the model in test set is:\\t\\t\\t{}\".format(model.score(X_test, y_test)))"
      ],
      "execution_count": null,
      "outputs": []
    },
    {
      "cell_type": "markdown",
      "metadata": {
        "id": "1RPX_FKOsF78"
      },
      "source": [
        "##OLS - Linear Regression Model"
      ]
    },
    {
      "cell_type": "code",
      "metadata": {
        "id": "VoFzlB7d6R1g",
        "colab": {
          "base_uri": "https://localhost:8080/"
        },
        "outputId": "f0e3886e-87ca-42f2-863d-667138ad2d68"
      },
      "source": [
        "from sklearn.linear_model import LinearRegression, LassoCV, RidgeCV, ElasticNetCV\n",
        "from sklearn.model_selection import cross_val_score\n",
        "\n",
        "lrm = LinearRegression()\n",
        "lrm.fit(X_train, y_train)\n",
        "\n",
        "# We are making predictions here\n",
        "y_preds_train = lrm.predict(X_train)\n",
        "y_preds_test = lrm.predict(X_test)\n",
        "\n",
        "test_results(lrm)\n",
        "eval_metrics(y_test, y_preds_test)"
      ],
      "execution_count": null,
      "outputs": [
        {
          "output_type": "stream",
          "text": [
            "Cross-validation - 5 fold :  [0.96194888 0.94989928 0.9624966  0.94985251 0.95974664]\n",
            "\n",
            "R-squared of the model in training set is:\t\t0.9578792939954929\n",
            "\n",
            "-----Test set statistics-----\n",
            "R-squared of the model in test set is:\t\t\t0.9554704911571488\n",
            "\n",
            "MAE: Mean absolute error of the prediction is:\t\t\t1215.4788506836924\n",
            "MSE: Mean squared error of the prediction is:\t\t\t4189878.1891251686\n",
            "RMSE: Root mean squared error of the prediction is:\t\t2046.9191945763685\n",
            "MAPE: Mean absolute percentage error of the prediction is:\t10.368984086054873\n"
          ],
          "name": "stdout"
        }
      ]
    },
    {
      "cell_type": "markdown",
      "metadata": {
        "id": "SBjT1RHAy0Yj"
      },
      "source": [
        "##Lasso Regression Model"
      ]
    },
    {
      "cell_type": "code",
      "metadata": {
        "id": "-5pnq8Ip6R9t",
        "colab": {
          "base_uri": "https://localhost:8080/"
        },
        "outputId": "560ea2dc-2dc1-455b-9db3-15962f3c4bda"
      },
      "source": [
        "lasso_cv = LassoCV(cv=5)\n",
        "lasso_cv.fit(X_train, y_train)\n",
        "\n",
        "# We are making predictions here\n",
        "y_preds_train = lasso_cv.predict(X_train)\n",
        "y_preds_test = lasso_cv.predict(X_test)\n",
        "\n",
        "test_results(lasso_cv)\n",
        "eval_metrics(y_test, y_preds_test)"
      ],
      "execution_count": null,
      "outputs": [
        {
          "output_type": "stream",
          "text": [
            "Cross-validation - 5 fold :  [0.96115903 0.94452033 0.9608674  0.9466647  0.95758431]\n",
            "\n",
            "R-squared of the model in training set is:\t\t0.9550382339567876\n",
            "\n",
            "-----Test set statistics-----\n",
            "R-squared of the model in test set is:\t\t\t0.9522189153121743\n",
            "\n",
            "MAE: Mean absolute error of the prediction is:\t\t\t1197.2283113511012\n",
            "MSE: Mean squared error of the prediction is:\t\t\t4495826.021633816\n",
            "RMSE: Root mean squared error of the prediction is:\t\t2120.336299183178\n",
            "MAPE: Mean absolute percentage error of the prediction is:\t9.95167722285804\n"
          ],
          "name": "stdout"
        }
      ]
    },
    {
      "cell_type": "markdown",
      "metadata": {
        "id": "hTbqqOIcy7S7"
      },
      "source": [
        "##Ridge Regression Model"
      ]
    },
    {
      "cell_type": "code",
      "metadata": {
        "id": "a3c5zsEe6SGF",
        "colab": {
          "base_uri": "https://localhost:8080/"
        },
        "outputId": "be11badf-f722-40a2-b54d-fb030115291f"
      },
      "source": [
        "ridge_cv = RidgeCV(cv=5)\n",
        "ridge_cv.fit(X_train, y_train)\n",
        "\n",
        "# We are making predictions here\n",
        "y_preds_train = ridge_cv.predict(X_train)\n",
        "y_preds_test = ridge_cv.predict(X_test)\n",
        "\n",
        "test_results(ridge_cv)\n",
        "eval_metrics(y_test, y_preds_test)"
      ],
      "execution_count": null,
      "outputs": [
        {
          "output_type": "stream",
          "text": [
            "Cross-validation - 5 fold :  [0.96196035 0.94988287 0.96252534 0.94985211 0.95978792]\n",
            "\n",
            "R-squared of the model in training set is:\t\t0.9578763670720186\n",
            "\n",
            "-----Test set statistics-----\n",
            "R-squared of the model in test set is:\t\t\t0.9554724148969428\n",
            "\n",
            "MAE: Mean absolute error of the prediction is:\t\t\t1214.314264285822\n",
            "MSE: Mean squared error of the prediction is:\t\t\t4189697.180270284\n",
            "RMSE: Root mean squared error of the prediction is:\t\t2046.874979149993\n",
            "MAPE: Mean absolute percentage error of the prediction is:\t10.354493577530624\n"
          ],
          "name": "stdout"
        }
      ]
    },
    {
      "cell_type": "markdown",
      "metadata": {
        "id": "alOfS4BPzBqm"
      },
      "source": [
        "##ElasticNet Regression Model"
      ]
    },
    {
      "cell_type": "code",
      "metadata": {
        "id": "Pp1-mHu18Wva",
        "colab": {
          "base_uri": "https://localhost:8080/"
        },
        "outputId": "ebbd0527-243c-4e9f-bf6e-54b21290928b"
      },
      "source": [
        "elasticnet_cv = ElasticNetCV(cv=5)\n",
        "elasticnet_cv.fit(X_train, y_train)\n",
        "\n",
        "# We are making predictions here\n",
        "y_preds_train = elasticnet_cv.predict(X_train)\n",
        "y_preds_test = elasticnet_cv.predict(X_test)\n",
        "\n",
        "test_results(elasticnet_cv)\n",
        "eval_metrics(y_test, y_preds_test)"
      ],
      "execution_count": null,
      "outputs": [
        {
          "output_type": "stream",
          "text": [
            "Cross-validation - 5 fold :  [0.9610741  0.94452824 0.96081689 0.94673893 0.95757253]\n",
            "\n",
            "R-squared of the model in training set is:\t\t0.9550250660281392\n",
            "\n",
            "-----Test set statistics-----\n",
            "R-squared of the model in test set is:\t\t\t0.9521809382394497\n",
            "\n",
            "MAE: Mean absolute error of the prediction is:\t\t\t1203.4958572931234\n",
            "MSE: Mean squared error of the prediction is:\t\t\t4499399.366879049\n",
            "RMSE: Root mean squared error of the prediction is:\t\t2121.1787682510517\n",
            "MAPE: Mean absolute percentage error of the prediction is:\t9.996260061125284\n"
          ],
          "name": "stdout"
        }
      ]
    },
    {
      "cell_type": "code",
      "metadata": {
        "id": "CLnZGTOv6lXr",
        "colab": {
          "base_uri": "https://localhost:8080/"
        },
        "outputId": "efe7bf82-e03d-4fb2-8bd8-f85551b529d3"
      },
      "source": [
        "#COnfirm and Summarize Results\n",
        "lcv = LassoCV().fit(X_train,y_train)\n",
        "rcv = RidgeCV().fit(X_train,y_train)\n",
        "encv= ElasticNetCV().fit(X_train,y_train)\n",
        "\n",
        "print(\"Method (R-squared):\\ttrain\\t\\t\\ttest\")\n",
        "print(\"LinReg:\\t\\t\\t\", lrm.score(X_train,y_train),\"\\t\", lrm.score(X_test,y_test))\n",
        "print(\"LassoCV:\\t\\t\", lcv.score(X_train,y_train),\"\\t\", lcv.score(X_test,y_test))\n",
        "print(\"RidgeCV:\\t\\t\", rcv.score(X_train,y_train),\"\\t\", rcv.score(X_test,y_test))\n",
        "print(\"ElasticNetCV:\\t\\t\",encv.score(X_train,y_train),\"\\t\", encv.score(X_test,y_test))"
      ],
      "execution_count": null,
      "outputs": [
        {
          "output_type": "stream",
          "text": [
            "Method (R-squared):\ttrain\t\t\ttest\n",
            "LinReg:\t\t\t 0.9578792939954929 \t 0.9554704911571488\n",
            "LassoCV:\t\t 0.9550382339567876 \t 0.9522189153121743\n",
            "RidgeCV:\t\t 0.9578746589587164 \t 0.9554629495068883\n",
            "ElasticNetCV:\t\t 0.9550250660281392 \t 0.9521809382394497\n"
          ],
          "name": "stdout"
        }
      ]
    },
    {
      "cell_type": "markdown",
      "metadata": {
        "id": "wOvlXfHFzOwp"
      },
      "source": [
        "#Model Summary:\n",
        "##All four models are extremely close in both training and test accuracy.  The OLS Linear Regression and Ridge Regression models have a slight edge in both training and testing accuracy.  One the other hand, The MAE, MSE, RMSE, and MAPE give varying indicators.  The MAE scores for Lasso and ElasticNet are better(lower) than OLS and Ridge scores. None of these four prediction indicators are substantially lower than any of the other ones.\n",
        "\n",
        "##Conclusion: Any of the four testing models used would result in a favorable prediction accuracy between 95.2% - 95.5%. All 4 tests have 2 of the 5-fold cross-validation scores reaching the 96% threshold.  That is, supplying the corresponding features of a car to be listed on Craigslist.com would result in a listing price at approximately 95% of what people feel is the appropriate listing price.\n",
        "\n",
        "###NOTE - The key to achieving such a relatively high predictive accuracy score hinged upon quantifying the vehicle's model feature.  Replacing the model with the average price with respect to it's year was significant."
      ]
    },
    {
      "cell_type": "markdown",
      "metadata": {
        "id": "P1ERYzvdrPeD"
      },
      "source": [
        "#The following graphs give some interesting insight into the used car market in California."
      ]
    },
    {
      "cell_type": "code",
      "metadata": {
        "colab": {
          "base_uri": "https://localhost:8080/",
          "height": 414
        },
        "id": "XdyqtaRPN2hs",
        "outputId": "f1dfeac2-d3c8-489b-8795-a462011075e6"
      },
      "source": [
        "# Mean price per manufacturer\n",
        "\n",
        "price_ave = cars[['price','manufacturer']].groupby('manufacturer').mean()\n",
        "\n",
        "plt.figure(figsize=(18,5))\n",
        "pr = sns.barplot(x=price_ave.index, y=\"price\", data=price_ave)\n",
        "var = pr.set_xticklabels(pr.get_xticklabels(), rotation=90)"
      ],
      "execution_count": null,
      "outputs": [
        {
          "output_type": "display_data",
          "data": {
            "image/png": "[encoded data removed]",
            "text/plain": [
              "<Figure size 1296x360 with 1 Axes>"
            ]
          },
          "metadata": {
            "tags": []
          }
        }
      ]
    },
    {
      "cell_type": "code",
      "metadata": {
        "colab": {
          "base_uri": "https://localhost:8080/",
          "height": 414
        },
        "id": "FXcsh1Jn-_j8",
        "outputId": "1c4025d4-5b5a-4414-a68f-b2eaee8f3459"
      },
      "source": [
        "# Odometer mean per manufacturer\n",
        "\n",
        "odometer_mean = cars[['odometer','manufacturer']].groupby('manufacturer').mean()\n",
        "\n",
        "plt.figure(figsize=(18,5))\n",
        "pr = sns.barplot(x=odometer_mean.index, y=\"odometer\", data=odometer_mean)\n",
        "var = pr.set_xticklabels(pr.get_xticklabels(), rotation=90)"
      ],
      "execution_count": null,
      "outputs": [
        {
          "output_type": "display_data",
          "data": {
            "image/png": "[encoded data removed]",
            "text/plain": [
              "<Figure size 1296x360 with 1 Axes>"
            ]
          },
          "metadata": {
            "tags": []
          }
        }
      ]
    },
    {
      "cell_type": "code",
      "metadata": {
        "id": "4pglZ88yfNEG",
        "colab": {
          "base_uri": "https://localhost:8080/",
          "height": 737
        },
        "outputId": "ba29e9d5-e4c4-4dd9-9b03-ab2a27f3f5e2"
      },
      "source": [
        "# Breakdown of the top4 manufacturers:\n",
        "top4 = ['ford', 'chevrolet', 'toyota', 'honda']\n",
        "\n",
        "v = cars.loc[(cars['manufacturer'].isin(top4)), :].copy()\n",
        "\n",
        "plt.subplots(figsize=(18, 12)) \n",
        "sns.countplot(y=\"type\", hue=\"manufacturer\", data=v)"
      ],
      "execution_count": null,
      "outputs": [
        {
          "output_type": "execute_result",
          "data": {
            "text/plain": [
              "<matplotlib.axes._subplots.AxesSubplot at 0x7f567c7240d0>"
            ]
          },
          "metadata": {
            "tags": []
          },
          "execution_count": 141
        },
        {
          "output_type": "display_data",
          "data": {
            "image/png": "[encoded data removed]",
            "text/plain": [
              "<Figure size 1296x864 with 1 Axes>"
            ]
          },
          "metadata": {
            "tags": []
          }
        }
      ]
    },
    {
      "cell_type": "markdown",
      "metadata": {
        "id": "EKQ9ZkZhFfaQ"
      },
      "source": [
        "#Further Considerations:\n",
        "##Adjusting this model to incorporate sales price would be optimal.  The ability to predict the best listing price to maximize sales price  would be an ideal direction to pursue."
      ]
    }
  ]
}